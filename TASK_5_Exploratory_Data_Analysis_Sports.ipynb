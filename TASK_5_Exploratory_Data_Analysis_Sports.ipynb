{
  "nbformat": 4,
  "nbformat_minor": 0,
  "metadata": {
    "colab": {
      "name": "TASK 5 :- Exploratory Data Analysis - Sports.ipynb",
      "provenance": [],
      "collapsed_sections": []
    },
    "kernelspec": {
      "name": "python3",
      "display_name": "Python 3"
    },
    "language_info": {
      "name": "python"
    }
  },
  "cells": [
    {
      "cell_type": "markdown",
      "metadata": {
        "id": "hPm7DUx_Mo29"
      },
      "source": [
        "# **Author: Shruti Shukla**"
      ]
    },
    {
      "cell_type": "markdown",
      "metadata": {
        "id": "v66QtpB_MomQ"
      },
      "source": [
        "# **TASK 5 :- Exploratory Data Analysis - Sports**"
      ]
    },
    {
      "cell_type": "markdown",
      "metadata": {
        "id": "EqwTTahjMooW"
      },
      "source": [
        "# **GRIP @ The Sparks Foundation**"
      ]
    },
    {
      "cell_type": "markdown",
      "metadata": {
        "id": "mweGH03SMorZ"
      },
      "source": [
        "## Importing Libraries needed to perform task"
      ]
    },
    {
      "cell_type": "code",
      "metadata": {
        "id": "YJ478_bGMndD"
      },
      "source": [
        "# Importing all the libraries needed in this notebook\n",
        "import numpy as np\n",
        "import pandas as pd\n",
        "import seaborn as sns\n",
        "from plotnine import *\n",
        "import warnings\n",
        "warnings.filterwarnings('ignore')\n",
        "import matplotlib.pyplot as plt\n",
        "import io \n",
        "%matplotlib inline\n",
        "import plotly.express as px\n",
        "import plotly.graph_objects as go\n",
        "from plotly.subplots import make_subplots\n",
        "from google.colab import files"
      ],
      "execution_count": 4,
      "outputs": []
    },
    {
      "cell_type": "markdown",
      "metadata": {
        "id": "-rwGWrBPNP9m"
      },
      "source": [
        "# Reading the dataset"
      ]
    },
    {
      "cell_type": "code",
      "metadata": {
        "colab": {
          "resources": {
            "http://localhost:8080/nbextensions/google.colab/files.js": {
              "data": "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",
              "ok": true,
              "headers": [
                [
                  "content-type",
                  "application/javascript"
                ]
              ],
              "status": 200,
              "status_text": ""
            }
          },
          "base_uri": "https://localhost:8080/",
          "height": 106
        },
        "id": "q5Ur5z2oNV88",
        "outputId": "96f18e74-02b0-4bad-d457-4460c5a28fa3"
      },
      "source": [
        "uploaded=files.upload()"
      ],
      "execution_count": 5,
      "outputs": [
        {
          "output_type": "display_data",
          "data": {
            "text/html": [
              "\n",
              "     <input type=\"file\" id=\"files-f9a20cf8-2266-42b7-8fe9-8bb548cb95d9\" name=\"files[]\" multiple disabled\n",
              "        style=\"border:none\" />\n",
              "     <output id=\"result-f9a20cf8-2266-42b7-8fe9-8bb548cb95d9\">\n",
              "      Upload widget is only available when the cell has been executed in the\n",
              "      current browser session. Please rerun this cell to enable.\n",
              "      </output>\n",
              "      <script src=\"/nbextensions/google.colab/files.js\"></script> "
            ],
            "text/plain": [
              "<IPython.core.display.HTML object>"
            ]
          },
          "metadata": {
            "tags": []
          }
        },
        {
          "output_type": "stream",
          "text": [
            "Saving deliveries.csv to deliveries.csv\n",
            "Saving matches.csv to matches.csv\n"
          ],
          "name": "stdout"
        }
      ]
    },
    {
      "cell_type": "code",
      "metadata": {
        "id": "rdXymdklSaIT"
      },
      "source": [
        "sports=pd.read_csv(io.StringIO(uploaded['matches.csv'].decode('utf-8')))"
      ],
      "execution_count": 7,
      "outputs": []
    },
    {
      "cell_type": "code",
      "metadata": {
        "colab": {
          "base_uri": "https://localhost:8080/",
          "height": 445
        },
        "id": "htNu8pMuSdx4",
        "outputId": "22d72829-6369-45a4-d62d-56eace197052"
      },
      "source": [
        "sports.head()"
      ],
      "execution_count": 8,
      "outputs": [
        {
          "output_type": "execute_result",
          "data": {
            "text/html": [
              "<div>\n",
              "<style scoped>\n",
              "    .dataframe tbody tr th:only-of-type {\n",
              "        vertical-align: middle;\n",
              "    }\n",
              "\n",
              "    .dataframe tbody tr th {\n",
              "        vertical-align: top;\n",
              "    }\n",
              "\n",
              "    .dataframe thead th {\n",
              "        text-align: right;\n",
              "    }\n",
              "</style>\n",
              "<table border=\"1\" class=\"dataframe\">\n",
              "  <thead>\n",
              "    <tr style=\"text-align: right;\">\n",
              "      <th></th>\n",
              "      <th>id</th>\n",
              "      <th>season</th>\n",
              "      <th>city</th>\n",
              "      <th>date</th>\n",
              "      <th>team1</th>\n",
              "      <th>team2</th>\n",
              "      <th>toss_winner</th>\n",
              "      <th>toss_decision</th>\n",
              "      <th>result</th>\n",
              "      <th>dl_applied</th>\n",
              "      <th>winner</th>\n",
              "      <th>win_by_runs</th>\n",
              "      <th>win_by_wickets</th>\n",
              "      <th>player_of_match</th>\n",
              "      <th>venue</th>\n",
              "      <th>umpire1</th>\n",
              "      <th>umpire2</th>\n",
              "      <th>umpire3</th>\n",
              "    </tr>\n",
              "  </thead>\n",
              "  <tbody>\n",
              "    <tr>\n",
              "      <th>0</th>\n",
              "      <td>1</td>\n",
              "      <td>2017</td>\n",
              "      <td>Hyderabad</td>\n",
              "      <td>2017-04-05</td>\n",
              "      <td>Sunrisers Hyderabad</td>\n",
              "      <td>Royal Challengers Bangalore</td>\n",
              "      <td>Royal Challengers Bangalore</td>\n",
              "      <td>field</td>\n",
              "      <td>normal</td>\n",
              "      <td>0</td>\n",
              "      <td>Sunrisers Hyderabad</td>\n",
              "      <td>35</td>\n",
              "      <td>0</td>\n",
              "      <td>Yuvraj Singh</td>\n",
              "      <td>Rajiv Gandhi International Stadium, Uppal</td>\n",
              "      <td>AY Dandekar</td>\n",
              "      <td>NJ Llong</td>\n",
              "      <td>NaN</td>\n",
              "    </tr>\n",
              "    <tr>\n",
              "      <th>1</th>\n",
              "      <td>2</td>\n",
              "      <td>2017</td>\n",
              "      <td>Pune</td>\n",
              "      <td>2017-04-06</td>\n",
              "      <td>Mumbai Indians</td>\n",
              "      <td>Rising Pune Supergiant</td>\n",
              "      <td>Rising Pune Supergiant</td>\n",
              "      <td>field</td>\n",
              "      <td>normal</td>\n",
              "      <td>0</td>\n",
              "      <td>Rising Pune Supergiant</td>\n",
              "      <td>0</td>\n",
              "      <td>7</td>\n",
              "      <td>SPD Smith</td>\n",
              "      <td>Maharashtra Cricket Association Stadium</td>\n",
              "      <td>A Nand Kishore</td>\n",
              "      <td>S Ravi</td>\n",
              "      <td>NaN</td>\n",
              "    </tr>\n",
              "    <tr>\n",
              "      <th>2</th>\n",
              "      <td>3</td>\n",
              "      <td>2017</td>\n",
              "      <td>Rajkot</td>\n",
              "      <td>2017-04-07</td>\n",
              "      <td>Gujarat Lions</td>\n",
              "      <td>Kolkata Knight Riders</td>\n",
              "      <td>Kolkata Knight Riders</td>\n",
              "      <td>field</td>\n",
              "      <td>normal</td>\n",
              "      <td>0</td>\n",
              "      <td>Kolkata Knight Riders</td>\n",
              "      <td>0</td>\n",
              "      <td>10</td>\n",
              "      <td>CA Lynn</td>\n",
              "      <td>Saurashtra Cricket Association Stadium</td>\n",
              "      <td>Nitin Menon</td>\n",
              "      <td>CK Nandan</td>\n",
              "      <td>NaN</td>\n",
              "    </tr>\n",
              "    <tr>\n",
              "      <th>3</th>\n",
              "      <td>4</td>\n",
              "      <td>2017</td>\n",
              "      <td>Indore</td>\n",
              "      <td>2017-04-08</td>\n",
              "      <td>Rising Pune Supergiant</td>\n",
              "      <td>Kings XI Punjab</td>\n",
              "      <td>Kings XI Punjab</td>\n",
              "      <td>field</td>\n",
              "      <td>normal</td>\n",
              "      <td>0</td>\n",
              "      <td>Kings XI Punjab</td>\n",
              "      <td>0</td>\n",
              "      <td>6</td>\n",
              "      <td>GJ Maxwell</td>\n",
              "      <td>Holkar Cricket Stadium</td>\n",
              "      <td>AK Chaudhary</td>\n",
              "      <td>C Shamshuddin</td>\n",
              "      <td>NaN</td>\n",
              "    </tr>\n",
              "    <tr>\n",
              "      <th>4</th>\n",
              "      <td>5</td>\n",
              "      <td>2017</td>\n",
              "      <td>Bangalore</td>\n",
              "      <td>2017-04-08</td>\n",
              "      <td>Royal Challengers Bangalore</td>\n",
              "      <td>Delhi Daredevils</td>\n",
              "      <td>Royal Challengers Bangalore</td>\n",
              "      <td>bat</td>\n",
              "      <td>normal</td>\n",
              "      <td>0</td>\n",
              "      <td>Royal Challengers Bangalore</td>\n",
              "      <td>15</td>\n",
              "      <td>0</td>\n",
              "      <td>KM Jadhav</td>\n",
              "      <td>M Chinnaswamy Stadium</td>\n",
              "      <td>NaN</td>\n",
              "      <td>NaN</td>\n",
              "      <td>NaN</td>\n",
              "    </tr>\n",
              "  </tbody>\n",
              "</table>\n",
              "</div>"
            ],
            "text/plain": [
              "   id  season       city  ...         umpire1        umpire2 umpire3\n",
              "0   1    2017  Hyderabad  ...     AY Dandekar       NJ Llong     NaN\n",
              "1   2    2017       Pune  ...  A Nand Kishore         S Ravi     NaN\n",
              "2   3    2017     Rajkot  ...     Nitin Menon      CK Nandan     NaN\n",
              "3   4    2017     Indore  ...    AK Chaudhary  C Shamshuddin     NaN\n",
              "4   5    2017  Bangalore  ...             NaN            NaN     NaN\n",
              "\n",
              "[5 rows x 18 columns]"
            ]
          },
          "metadata": {
            "tags": []
          },
          "execution_count": 8
        }
      ]
    },
    {
      "cell_type": "markdown",
      "metadata": {
        "id": "HPf3Z_qcSqZI"
      },
      "source": [
        "# Checking the dataset's information"
      ]
    },
    {
      "cell_type": "code",
      "metadata": {
        "colab": {
          "base_uri": "https://localhost:8080/"
        },
        "id": "7zynYWoMSmdK",
        "outputId": "80059db5-b8a8-4d04-8cd8-52caf9e7912a"
      },
      "source": [
        "sports.info()"
      ],
      "execution_count": 9,
      "outputs": [
        {
          "output_type": "stream",
          "text": [
            "<class 'pandas.core.frame.DataFrame'>\n",
            "RangeIndex: 756 entries, 0 to 755\n",
            "Data columns (total 18 columns):\n",
            " #   Column           Non-Null Count  Dtype \n",
            "---  ------           --------------  ----- \n",
            " 0   id               756 non-null    int64 \n",
            " 1   season           756 non-null    int64 \n",
            " 2   city             749 non-null    object\n",
            " 3   date             756 non-null    object\n",
            " 4   team1            756 non-null    object\n",
            " 5   team2            756 non-null    object\n",
            " 6   toss_winner      756 non-null    object\n",
            " 7   toss_decision    756 non-null    object\n",
            " 8   result           756 non-null    object\n",
            " 9   dl_applied       756 non-null    int64 \n",
            " 10  winner           752 non-null    object\n",
            " 11  win_by_runs      756 non-null    int64 \n",
            " 12  win_by_wickets   756 non-null    int64 \n",
            " 13  player_of_match  752 non-null    object\n",
            " 14  venue            756 non-null    object\n",
            " 15  umpire1          754 non-null    object\n",
            " 16  umpire2          754 non-null    object\n",
            " 17  umpire3          119 non-null    object\n",
            "dtypes: int64(5), object(13)\n",
            "memory usage: 106.4+ KB\n"
          ],
          "name": "stdout"
        }
      ]
    },
    {
      "cell_type": "code",
      "metadata": {
        "colab": {
          "base_uri": "https://localhost:8080/"
        },
        "id": "6xIk0syqS0A4",
        "outputId": "2250f3dd-a630-4dc0-a541-8788dbab1acb"
      },
      "source": [
        "sports.isnull().sum()"
      ],
      "execution_count": 10,
      "outputs": [
        {
          "output_type": "execute_result",
          "data": {
            "text/plain": [
              "id                   0\n",
              "season               0\n",
              "city                 7\n",
              "date                 0\n",
              "team1                0\n",
              "team2                0\n",
              "toss_winner          0\n",
              "toss_decision        0\n",
              "result               0\n",
              "dl_applied           0\n",
              "winner               4\n",
              "win_by_runs          0\n",
              "win_by_wickets       0\n",
              "player_of_match      4\n",
              "venue                0\n",
              "umpire1              2\n",
              "umpire2              2\n",
              "umpire3            637\n",
              "dtype: int64"
            ]
          },
          "metadata": {
            "tags": []
          },
          "execution_count": 10
        }
      ]
    },
    {
      "cell_type": "code",
      "metadata": {
        "colab": {
          "base_uri": "https://localhost:8080/"
        },
        "id": "jsHX6dm5S5qK",
        "outputId": "4097d341-0613-42e1-a2ea-28e694446297"
      },
      "source": [
        "sports.nunique()"
      ],
      "execution_count": 11,
      "outputs": [
        {
          "output_type": "execute_result",
          "data": {
            "text/plain": [
              "id                 756\n",
              "season              12\n",
              "city                32\n",
              "date               546\n",
              "team1               15\n",
              "team2               15\n",
              "toss_winner         15\n",
              "toss_decision        2\n",
              "result               3\n",
              "dl_applied           2\n",
              "winner              15\n",
              "win_by_runs         89\n",
              "win_by_wickets      11\n",
              "player_of_match    226\n",
              "venue               41\n",
              "umpire1             61\n",
              "umpire2             65\n",
              "umpire3             25\n",
              "dtype: int64"
            ]
          },
          "metadata": {
            "tags": []
          },
          "execution_count": 11
        }
      ]
    },
    {
      "cell_type": "code",
      "metadata": {
        "id": "-MuJIxS7TAlT"
      },
      "source": [
        "sports.rename(columns={'win_by_runs':'Bat_1', 'win_by_wickets':'Ball_1'}, inplace=True)"
      ],
      "execution_count": 12,
      "outputs": []
    },
    {
      "cell_type": "code",
      "metadata": {
        "colab": {
          "base_uri": "https://localhost:8080/"
        },
        "id": "7ddYFmdqTJnl",
        "outputId": "8681a115-8e48-444d-9c09-139588b61334"
      },
      "source": [
        "print(\"City in which most matches have been won: \",sports['city'].value_counts().idxmax()) \n",
        "print(\"Team that has won most matches: \",sports['winner'].value_counts().idxmax()) \n",
        "print(\"Player who has been man of the match most times: \",sports['player_of_match'].value_counts().idxmax()) \n",
        "print(\"Most frequent Umpire 1: \" ,sports['umpire1'].value_counts().idxmax())\n",
        "print(\"Most frequent Umpire 2: \" ,sports['umpire2'].value_counts().idxmax())"
      ],
      "execution_count": 14,
      "outputs": [
        {
          "output_type": "stream",
          "text": [
            "City in which most matches have been won:  Mumbai\n",
            "Team that has won most matches:  Mumbai Indians\n",
            "Player who has been man of the match most times:  CH Gayle\n",
            "Most frequent Umpire 1:  HDPK Dharmasena\n",
            "Most frequent Umpire 2:  C Shamshuddin\n"
          ],
          "name": "stdout"
        }
      ]
    },
    {
      "cell_type": "code",
      "metadata": {
        "id": "sW2I2gK7TXSP"
      },
      "source": [
        "sports['city'].fillna(value='Mumbai', inplace=True)\n",
        "sports['winner'].fillna(value='Mumbai Indians', inplace=True)\n",
        "sports['player_of_match'].fillna(value='CH Gayle', inplace=True)\n",
        "sports['umpire1'].fillna(value='HDPK Dharmasena', inplace=True)\n",
        "sports['umpire2'].fillna(value='C Shamshuddin', inplace=True)\n",
        "sports['umpire3'].fillna(value='NA', inplace=True)"
      ],
      "execution_count": 15,
      "outputs": []
    },
    {
      "cell_type": "code",
      "metadata": {
        "colab": {
          "base_uri": "https://localhost:8080/"
        },
        "id": "jE4rjGzMTXUy",
        "outputId": "81035f3d-7174-4cdc-f0b9-988661b23b99"
      },
      "source": [
        "sports.isnull().sum()"
      ],
      "execution_count": 16,
      "outputs": [
        {
          "output_type": "execute_result",
          "data": {
            "text/plain": [
              "id                 0\n",
              "season             0\n",
              "city               0\n",
              "date               0\n",
              "team1              0\n",
              "team2              0\n",
              "toss_winner        0\n",
              "toss_decision      0\n",
              "result             0\n",
              "dl_applied         0\n",
              "winner             0\n",
              "Bat_1              0\n",
              "Ball_1             0\n",
              "player_of_match    0\n",
              "venue              0\n",
              "umpire1            0\n",
              "umpire2            0\n",
              "umpire3            0\n",
              "dtype: int64"
            ]
          },
          "metadata": {
            "tags": []
          },
          "execution_count": 16
        }
      ]
    },
    {
      "cell_type": "code",
      "metadata": {
        "colab": {
          "base_uri": "https://localhost:8080/"
        },
        "id": "FRm4Bw_gTqYn",
        "outputId": "bef0b69d-307d-468d-be38-ec8cd01c1174"
      },
      "source": [
        "sports.duplicated().sum()"
      ],
      "execution_count": 17,
      "outputs": [
        {
          "output_type": "execute_result",
          "data": {
            "text/plain": [
              "0"
            ]
          },
          "metadata": {
            "tags": []
          },
          "execution_count": 17
        }
      ]
    },
    {
      "cell_type": "markdown",
      "metadata": {
        "id": "-Hl2bmYWTqk-"
      },
      "source": [
        "Here we do not have any duplicated values."
      ]
    },
    {
      "cell_type": "markdown",
      "metadata": {
        "id": "4sWXjJOeT1_s"
      },
      "source": [
        "# Data Visualization"
      ]
    },
    {
      "cell_type": "markdown",
      "metadata": {
        "id": "96jO0cThT5b7"
      },
      "source": [
        "# Finding Top Teams and Players"
      ]
    },
    {
      "cell_type": "code",
      "metadata": {
        "colab": {
          "base_uri": "https://localhost:8080/",
          "height": 456
        },
        "id": "TuIl4XbnT3g3",
        "outputId": "7163b3e4-ee22-434c-dcac-720adc6f3e1a"
      },
      "source": [
        "plt.figure(figsize=(15,6))\n",
        "style1  = {'family': 'Times New Roman', 'color': 'Tomato', 'size': 25}\n",
        "style2  = {'family': 'Times New Roman', 'color': 'DodgerBlue', 'size': 20}\n",
        "sns.barplot(sports['toss_winner'].value_counts()[:10].values, sports['toss_winner'].value_counts()[:10].index,palette='rocket')\n",
        "plt.title('Top 10 Teams', fontdict=style1 )\n",
        "plt.xlabel('Players' , fontdict=style2 )\n",
        "plt.ylabel('Count', fontdict=style2 )\n",
        "plt.show()"
      ],
      "execution_count": 18,
      "outputs": [
        {
          "output_type": "stream",
          "text": [
            "findfont: Font family ['Times New Roman'] not found. Falling back to DejaVu Sans.\n",
            "findfont: Font family ['Times New Roman'] not found. Falling back to DejaVu Sans.\n"
          ],
          "name": "stderr"
        },
        {
          "output_type": "display_data",
          "data": {
            "image/png": "[encoded data removed]",
            "text/plain": [
              "<Figure size 1080x432 with 1 Axes>"
            ]
          },
          "metadata": {
            "tags": [],
            "needs_background": "light"
          }
        }
      ]
    },
    {
      "cell_type": "code",
      "metadata": {
        "colab": {
          "base_uri": "https://localhost:8080/",
          "height": 422
        },
        "id": "MxytTOo5UH81",
        "outputId": "1befbf7e-547f-489b-c7bc-eda0625c665f"
      },
      "source": [
        "plt.subplots(figsize=(15,6))\n",
        "style1  = {'family': 'Times New Roman', 'color': 'Tomato', 'size': 25}\n",
        "style2  = {'family': 'Times New Roman', 'color': 'DodgerBlue', 'size': 20}\n",
        "sns.barplot(sports['player_of_match'].value_counts()[:10].index, sports['player_of_match'].value_counts()[:10].values,palette='rocket')\n",
        "plt.title('Top 10 Players', fontdict=style1 )\n",
        "plt.xlabel('Players' , fontdict=style2 )\n",
        "plt.ylabel('Count', fontdict=style2 )\n",
        "plt.show()"
      ],
      "execution_count": 19,
      "outputs": [
        {
          "output_type": "display_data",
          "data": {
            "image/png": "[encoded data removed]",
            "text/plain": [
              "<Figure size 1080x432 with 1 Axes>"
            ]
          },
          "metadata": {
            "tags": [],
            "needs_background": "light"
          }
        }
      ]
    },
    {
      "cell_type": "markdown",
      "metadata": {
        "id": "_NTpm_AJURYB"
      },
      "source": [
        "Best Team is Mumbai Indians.\n",
        "Best Player is CH Gayle."
      ]
    },
    {
      "cell_type": "markdown",
      "metadata": {
        "id": "6_XjmM9_UXOW"
      },
      "source": [
        "# Finding the Factors Affecting the Victory"
      ]
    },
    {
      "cell_type": "code",
      "metadata": {
        "colab": {
          "base_uri": "https://localhost:8080/",
          "height": 270
        },
        "id": "JKccOF7OUbH7",
        "outputId": "b8e3236f-fca3-41e9-914c-df5eab1c8e55"
      },
      "source": [
        "fac = sns.heatmap(sports.corr(), annot=True, cmap='magma')"
      ],
      "execution_count": 21,
      "outputs": [
        {
          "output_type": "display_data",
          "data": {
            "image/png": "[encoded data removed]",
            "text/plain": [
              "<Figure size 432x288 with 2 Axes>"
            ]
          },
          "metadata": {
            "tags": [],
            "needs_background": "light"
          }
        }
      ]
    },
    {
      "cell_type": "code",
      "metadata": {
        "id": "wwKHm2JJUjhs"
      },
      "source": [
        "sports = sports.drop(['dl_applied', 'season'], axis=1)"
      ],
      "execution_count": 22,
      "outputs": []
    },
    {
      "cell_type": "code",
      "metadata": {
        "colab": {
          "base_uri": "https://localhost:8080/",
          "height": 963
        },
        "id": "cwL4NGXyUjpo",
        "outputId": "72849755-9f35-447a-add4-c5b7a0be6550"
      },
      "source": [
        "plt.figure(figsize=(10,10))\n",
        "\n",
        "sns.countplot(sports['toss_winner'], data=sports, palette='twilight_shifted')\n",
        "\n",
        "plt.xlabel('Teams', fontsize=25, fontweight='bold')\n",
        "plt.ylabel('Count', fontsize=25, fontweight='bold')\n",
        "\n",
        "plt.title('Teams that Won the Toss', fontweight=\"bold\", size=30)\n",
        "\n",
        "plt.xticks(rotation=90, fontweight=\"bold\", size=20)\n",
        "plt.yticks(fontweight=\"bold\", size=20)\n",
        "\n",
        "plt.show()"
      ],
      "execution_count": 23,
      "outputs": [
        {
          "output_type": "display_data",
          "data": {
            "image/png": "[encoded data removed]",
            "text/plain": [
              "<Figure size 720x720 with 1 Axes>"
            ]
          },
          "metadata": {
            "tags": [],
            "needs_background": "light"
          }
        }
      ]
    },
    {
      "cell_type": "code",
      "metadata": {
        "colab": {
          "base_uri": "https://localhost:8080/"
        },
        "id": "1_08d-CHUyD7",
        "outputId": "ec1da77c-dc47-4fb1-867a-dfeeb67833a1"
      },
      "source": [
        "print('Team that won most matches by Batting First: ',sports.iloc[sports[sports['Bat_1'].ge(1)].Bat_1.idxmax()]['winner'])"
      ],
      "execution_count": 25,
      "outputs": [
        {
          "output_type": "stream",
          "text": [
            "Team that won most matches by Batting First:  Mumbai Indians\n"
          ],
          "name": "stdout"
        }
      ]
    },
    {
      "cell_type": "markdown",
      "metadata": {
        "id": "Rh0dyTAqVJD0"
      },
      "source": [
        "# Delivery Data "
      ]
    },
    {
      "cell_type": "code",
      "metadata": {
        "id": "SY7vy5AdVMmn"
      },
      "source": [
        "sports1=pd.read_csv(io.StringIO(uploaded['deliveries.csv'].decode('utf-8')))"
      ],
      "execution_count": 26,
      "outputs": []
    },
    {
      "cell_type": "code",
      "metadata": {
        "colab": {
          "base_uri": "https://localhost:8080/",
          "height": 394
        },
        "id": "Ov02h23MVWb1",
        "outputId": "969fd617-36e9-4c61-c17b-f3fc1afc440c"
      },
      "source": [
        "sports1.head()"
      ],
      "execution_count": 27,
      "outputs": [
        {
          "output_type": "execute_result",
          "data": {
            "text/html": [
              "<div>\n",
              "<style scoped>\n",
              "    .dataframe tbody tr th:only-of-type {\n",
              "        vertical-align: middle;\n",
              "    }\n",
              "\n",
              "    .dataframe tbody tr th {\n",
              "        vertical-align: top;\n",
              "    }\n",
              "\n",
              "    .dataframe thead th {\n",
              "        text-align: right;\n",
              "    }\n",
              "</style>\n",
              "<table border=\"1\" class=\"dataframe\">\n",
              "  <thead>\n",
              "    <tr style=\"text-align: right;\">\n",
              "      <th></th>\n",
              "      <th>match_id</th>\n",
              "      <th>inning</th>\n",
              "      <th>batting_team</th>\n",
              "      <th>bowling_team</th>\n",
              "      <th>over</th>\n",
              "      <th>ball</th>\n",
              "      <th>batsman</th>\n",
              "      <th>non_striker</th>\n",
              "      <th>bowler</th>\n",
              "      <th>is_super_over</th>\n",
              "      <th>wide_runs</th>\n",
              "      <th>bye_runs</th>\n",
              "      <th>legbye_runs</th>\n",
              "      <th>noball_runs</th>\n",
              "      <th>penalty_runs</th>\n",
              "      <th>batsman_runs</th>\n",
              "      <th>extra_runs</th>\n",
              "      <th>total_runs</th>\n",
              "      <th>player_dismissed</th>\n",
              "      <th>dismissal_kind</th>\n",
              "      <th>fielder</th>\n",
              "    </tr>\n",
              "  </thead>\n",
              "  <tbody>\n",
              "    <tr>\n",
              "      <th>0</th>\n",
              "      <td>1</td>\n",
              "      <td>1</td>\n",
              "      <td>Sunrisers Hyderabad</td>\n",
              "      <td>Royal Challengers Bangalore</td>\n",
              "      <td>1</td>\n",
              "      <td>1</td>\n",
              "      <td>DA Warner</td>\n",
              "      <td>S Dhawan</td>\n",
              "      <td>TS Mills</td>\n",
              "      <td>0</td>\n",
              "      <td>0</td>\n",
              "      <td>0</td>\n",
              "      <td>0</td>\n",
              "      <td>0</td>\n",
              "      <td>0</td>\n",
              "      <td>0</td>\n",
              "      <td>0</td>\n",
              "      <td>0</td>\n",
              "      <td>NaN</td>\n",
              "      <td>NaN</td>\n",
              "      <td>NaN</td>\n",
              "    </tr>\n",
              "    <tr>\n",
              "      <th>1</th>\n",
              "      <td>1</td>\n",
              "      <td>1</td>\n",
              "      <td>Sunrisers Hyderabad</td>\n",
              "      <td>Royal Challengers Bangalore</td>\n",
              "      <td>1</td>\n",
              "      <td>2</td>\n",
              "      <td>DA Warner</td>\n",
              "      <td>S Dhawan</td>\n",
              "      <td>TS Mills</td>\n",
              "      <td>0</td>\n",
              "      <td>0</td>\n",
              "      <td>0</td>\n",
              "      <td>0</td>\n",
              "      <td>0</td>\n",
              "      <td>0</td>\n",
              "      <td>0</td>\n",
              "      <td>0</td>\n",
              "      <td>0</td>\n",
              "      <td>NaN</td>\n",
              "      <td>NaN</td>\n",
              "      <td>NaN</td>\n",
              "    </tr>\n",
              "    <tr>\n",
              "      <th>2</th>\n",
              "      <td>1</td>\n",
              "      <td>1</td>\n",
              "      <td>Sunrisers Hyderabad</td>\n",
              "      <td>Royal Challengers Bangalore</td>\n",
              "      <td>1</td>\n",
              "      <td>3</td>\n",
              "      <td>DA Warner</td>\n",
              "      <td>S Dhawan</td>\n",
              "      <td>TS Mills</td>\n",
              "      <td>0</td>\n",
              "      <td>0</td>\n",
              "      <td>0</td>\n",
              "      <td>0</td>\n",
              "      <td>0</td>\n",
              "      <td>0</td>\n",
              "      <td>4</td>\n",
              "      <td>0</td>\n",
              "      <td>4</td>\n",
              "      <td>NaN</td>\n",
              "      <td>NaN</td>\n",
              "      <td>NaN</td>\n",
              "    </tr>\n",
              "    <tr>\n",
              "      <th>3</th>\n",
              "      <td>1</td>\n",
              "      <td>1</td>\n",
              "      <td>Sunrisers Hyderabad</td>\n",
              "      <td>Royal Challengers Bangalore</td>\n",
              "      <td>1</td>\n",
              "      <td>4</td>\n",
              "      <td>DA Warner</td>\n",
              "      <td>S Dhawan</td>\n",
              "      <td>TS Mills</td>\n",
              "      <td>0</td>\n",
              "      <td>0</td>\n",
              "      <td>0</td>\n",
              "      <td>0</td>\n",
              "      <td>0</td>\n",
              "      <td>0</td>\n",
              "      <td>0</td>\n",
              "      <td>0</td>\n",
              "      <td>0</td>\n",
              "      <td>NaN</td>\n",
              "      <td>NaN</td>\n",
              "      <td>NaN</td>\n",
              "    </tr>\n",
              "    <tr>\n",
              "      <th>4</th>\n",
              "      <td>1</td>\n",
              "      <td>1</td>\n",
              "      <td>Sunrisers Hyderabad</td>\n",
              "      <td>Royal Challengers Bangalore</td>\n",
              "      <td>1</td>\n",
              "      <td>5</td>\n",
              "      <td>DA Warner</td>\n",
              "      <td>S Dhawan</td>\n",
              "      <td>TS Mills</td>\n",
              "      <td>0</td>\n",
              "      <td>2</td>\n",
              "      <td>0</td>\n",
              "      <td>0</td>\n",
              "      <td>0</td>\n",
              "      <td>0</td>\n",
              "      <td>0</td>\n",
              "      <td>2</td>\n",
              "      <td>2</td>\n",
              "      <td>NaN</td>\n",
              "      <td>NaN</td>\n",
              "      <td>NaN</td>\n",
              "    </tr>\n",
              "  </tbody>\n",
              "</table>\n",
              "</div>"
            ],
            "text/plain": [
              "   match_id  inning  ... dismissal_kind fielder\n",
              "0         1       1  ...            NaN     NaN\n",
              "1         1       1  ...            NaN     NaN\n",
              "2         1       1  ...            NaN     NaN\n",
              "3         1       1  ...            NaN     NaN\n",
              "4         1       1  ...            NaN     NaN\n",
              "\n",
              "[5 rows x 21 columns]"
            ]
          },
          "metadata": {
            "tags": []
          },
          "execution_count": 27
        }
      ]
    },
    {
      "cell_type": "code",
      "metadata": {
        "colab": {
          "base_uri": "https://localhost:8080/"
        },
        "id": "oKxiUxbOVcHl",
        "outputId": "2bbc3267-2c0d-4796-ba69-c1c0688bda77"
      },
      "source": [
        "sports1.info()"
      ],
      "execution_count": 28,
      "outputs": [
        {
          "output_type": "stream",
          "text": [
            "<class 'pandas.core.frame.DataFrame'>\n",
            "RangeIndex: 179078 entries, 0 to 179077\n",
            "Data columns (total 21 columns):\n",
            " #   Column            Non-Null Count   Dtype \n",
            "---  ------            --------------   ----- \n",
            " 0   match_id          179078 non-null  int64 \n",
            " 1   inning            179078 non-null  int64 \n",
            " 2   batting_team      179078 non-null  object\n",
            " 3   bowling_team      179078 non-null  object\n",
            " 4   over              179078 non-null  int64 \n",
            " 5   ball              179078 non-null  int64 \n",
            " 6   batsman           179078 non-null  object\n",
            " 7   non_striker       179078 non-null  object\n",
            " 8   bowler            179078 non-null  object\n",
            " 9   is_super_over     179078 non-null  int64 \n",
            " 10  wide_runs         179078 non-null  int64 \n",
            " 11  bye_runs          179078 non-null  int64 \n",
            " 12  legbye_runs       179078 non-null  int64 \n",
            " 13  noball_runs       179078 non-null  int64 \n",
            " 14  penalty_runs      179078 non-null  int64 \n",
            " 15  batsman_runs      179078 non-null  int64 \n",
            " 16  extra_runs        179078 non-null  int64 \n",
            " 17  total_runs        179078 non-null  int64 \n",
            " 18  player_dismissed  8834 non-null    object\n",
            " 19  dismissal_kind    8834 non-null    object\n",
            " 20  fielder           6448 non-null    object\n",
            "dtypes: int64(13), object(8)\n",
            "memory usage: 28.7+ MB\n"
          ],
          "name": "stdout"
        }
      ]
    },
    {
      "cell_type": "code",
      "metadata": {
        "colab": {
          "base_uri": "https://localhost:8080/"
        },
        "id": "3vM63MquVjBG",
        "outputId": "825e2cc9-d8e0-45b3-c86b-b609c6972b38"
      },
      "source": [
        "sports1.isnull().sum()"
      ],
      "execution_count": 29,
      "outputs": [
        {
          "output_type": "execute_result",
          "data": {
            "text/plain": [
              "match_id                 0\n",
              "inning                   0\n",
              "batting_team             0\n",
              "bowling_team             0\n",
              "over                     0\n",
              "ball                     0\n",
              "batsman                  0\n",
              "non_striker              0\n",
              "bowler                   0\n",
              "is_super_over            0\n",
              "wide_runs                0\n",
              "bye_runs                 0\n",
              "legbye_runs              0\n",
              "noball_runs              0\n",
              "penalty_runs             0\n",
              "batsman_runs             0\n",
              "extra_runs               0\n",
              "total_runs               0\n",
              "player_dismissed    170244\n",
              "dismissal_kind      170244\n",
              "fielder             172630\n",
              "dtype: int64"
            ]
          },
          "metadata": {
            "tags": []
          },
          "execution_count": 29
        }
      ]
    },
    {
      "cell_type": "code",
      "metadata": {
        "id": "9KYLm7wSVjDJ"
      },
      "source": [
        "sports1 = sports1.drop(['dismissal_kind','fielder'], axis=1)"
      ],
      "execution_count": 31,
      "outputs": []
    },
    {
      "cell_type": "markdown",
      "metadata": {
        "id": "v7UQs-Y7Vs6P"
      },
      "source": [
        "# Merging the two Datasets into a new Dataset and Reading it (join on match-id)"
      ]
    },
    {
      "cell_type": "code",
      "metadata": {
        "colab": {
          "base_uri": "https://localhost:8080/",
          "height": 564
        },
        "id": "kxGGmRroVjHC",
        "outputId": "023a72b1-7772-4a80-a530-aa7b926631f8"
      },
      "source": [
        "delivery=pd.merge(sports1, sports, left_on='match_id', right_on='id')\n",
        "delivery.head()"
      ],
      "execution_count": 32,
      "outputs": [
        {
          "output_type": "execute_result",
          "data": {
            "text/html": [
              "<div>\n",
              "<style scoped>\n",
              "    .dataframe tbody tr th:only-of-type {\n",
              "        vertical-align: middle;\n",
              "    }\n",
              "\n",
              "    .dataframe tbody tr th {\n",
              "        vertical-align: top;\n",
              "    }\n",
              "\n",
              "    .dataframe thead th {\n",
              "        text-align: right;\n",
              "    }\n",
              "</style>\n",
              "<table border=\"1\" class=\"dataframe\">\n",
              "  <thead>\n",
              "    <tr style=\"text-align: right;\">\n",
              "      <th></th>\n",
              "      <th>match_id</th>\n",
              "      <th>inning</th>\n",
              "      <th>batting_team</th>\n",
              "      <th>bowling_team</th>\n",
              "      <th>over</th>\n",
              "      <th>ball</th>\n",
              "      <th>batsman</th>\n",
              "      <th>non_striker</th>\n",
              "      <th>bowler</th>\n",
              "      <th>is_super_over</th>\n",
              "      <th>wide_runs</th>\n",
              "      <th>bye_runs</th>\n",
              "      <th>legbye_runs</th>\n",
              "      <th>noball_runs</th>\n",
              "      <th>penalty_runs</th>\n",
              "      <th>batsman_runs</th>\n",
              "      <th>extra_runs</th>\n",
              "      <th>total_runs</th>\n",
              "      <th>player_dismissed</th>\n",
              "      <th>id</th>\n",
              "      <th>city</th>\n",
              "      <th>date</th>\n",
              "      <th>team1</th>\n",
              "      <th>team2</th>\n",
              "      <th>toss_winner</th>\n",
              "      <th>toss_decision</th>\n",
              "      <th>result</th>\n",
              "      <th>winner</th>\n",
              "      <th>Bat_1</th>\n",
              "      <th>Ball_1</th>\n",
              "      <th>player_of_match</th>\n",
              "      <th>venue</th>\n",
              "      <th>umpire1</th>\n",
              "      <th>umpire2</th>\n",
              "      <th>umpire3</th>\n",
              "    </tr>\n",
              "  </thead>\n",
              "  <tbody>\n",
              "    <tr>\n",
              "      <th>0</th>\n",
              "      <td>1</td>\n",
              "      <td>1</td>\n",
              "      <td>Sunrisers Hyderabad</td>\n",
              "      <td>Royal Challengers Bangalore</td>\n",
              "      <td>1</td>\n",
              "      <td>1</td>\n",
              "      <td>DA Warner</td>\n",
              "      <td>S Dhawan</td>\n",
              "      <td>TS Mills</td>\n",
              "      <td>0</td>\n",
              "      <td>0</td>\n",
              "      <td>0</td>\n",
              "      <td>0</td>\n",
              "      <td>0</td>\n",
              "      <td>0</td>\n",
              "      <td>0</td>\n",
              "      <td>0</td>\n",
              "      <td>0</td>\n",
              "      <td>NaN</td>\n",
              "      <td>1</td>\n",
              "      <td>Hyderabad</td>\n",
              "      <td>2017-04-05</td>\n",
              "      <td>Sunrisers Hyderabad</td>\n",
              "      <td>Royal Challengers Bangalore</td>\n",
              "      <td>Royal Challengers Bangalore</td>\n",
              "      <td>field</td>\n",
              "      <td>normal</td>\n",
              "      <td>Sunrisers Hyderabad</td>\n",
              "      <td>35</td>\n",
              "      <td>0</td>\n",
              "      <td>Yuvraj Singh</td>\n",
              "      <td>Rajiv Gandhi International Stadium, Uppal</td>\n",
              "      <td>AY Dandekar</td>\n",
              "      <td>NJ Llong</td>\n",
              "      <td>NA</td>\n",
              "    </tr>\n",
              "    <tr>\n",
              "      <th>1</th>\n",
              "      <td>1</td>\n",
              "      <td>1</td>\n",
              "      <td>Sunrisers Hyderabad</td>\n",
              "      <td>Royal Challengers Bangalore</td>\n",
              "      <td>1</td>\n",
              "      <td>2</td>\n",
              "      <td>DA Warner</td>\n",
              "      <td>S Dhawan</td>\n",
              "      <td>TS Mills</td>\n",
              "      <td>0</td>\n",
              "      <td>0</td>\n",
              "      <td>0</td>\n",
              "      <td>0</td>\n",
              "      <td>0</td>\n",
              "      <td>0</td>\n",
              "      <td>0</td>\n",
              "      <td>0</td>\n",
              "      <td>0</td>\n",
              "      <td>NaN</td>\n",
              "      <td>1</td>\n",
              "      <td>Hyderabad</td>\n",
              "      <td>2017-04-05</td>\n",
              "      <td>Sunrisers Hyderabad</td>\n",
              "      <td>Royal Challengers Bangalore</td>\n",
              "      <td>Royal Challengers Bangalore</td>\n",
              "      <td>field</td>\n",
              "      <td>normal</td>\n",
              "      <td>Sunrisers Hyderabad</td>\n",
              "      <td>35</td>\n",
              "      <td>0</td>\n",
              "      <td>Yuvraj Singh</td>\n",
              "      <td>Rajiv Gandhi International Stadium, Uppal</td>\n",
              "      <td>AY Dandekar</td>\n",
              "      <td>NJ Llong</td>\n",
              "      <td>NA</td>\n",
              "    </tr>\n",
              "    <tr>\n",
              "      <th>2</th>\n",
              "      <td>1</td>\n",
              "      <td>1</td>\n",
              "      <td>Sunrisers Hyderabad</td>\n",
              "      <td>Royal Challengers Bangalore</td>\n",
              "      <td>1</td>\n",
              "      <td>3</td>\n",
              "      <td>DA Warner</td>\n",
              "      <td>S Dhawan</td>\n",
              "      <td>TS Mills</td>\n",
              "      <td>0</td>\n",
              "      <td>0</td>\n",
              "      <td>0</td>\n",
              "      <td>0</td>\n",
              "      <td>0</td>\n",
              "      <td>0</td>\n",
              "      <td>4</td>\n",
              "      <td>0</td>\n",
              "      <td>4</td>\n",
              "      <td>NaN</td>\n",
              "      <td>1</td>\n",
              "      <td>Hyderabad</td>\n",
              "      <td>2017-04-05</td>\n",
              "      <td>Sunrisers Hyderabad</td>\n",
              "      <td>Royal Challengers Bangalore</td>\n",
              "      <td>Royal Challengers Bangalore</td>\n",
              "      <td>field</td>\n",
              "      <td>normal</td>\n",
              "      <td>Sunrisers Hyderabad</td>\n",
              "      <td>35</td>\n",
              "      <td>0</td>\n",
              "      <td>Yuvraj Singh</td>\n",
              "      <td>Rajiv Gandhi International Stadium, Uppal</td>\n",
              "      <td>AY Dandekar</td>\n",
              "      <td>NJ Llong</td>\n",
              "      <td>NA</td>\n",
              "    </tr>\n",
              "    <tr>\n",
              "      <th>3</th>\n",
              "      <td>1</td>\n",
              "      <td>1</td>\n",
              "      <td>Sunrisers Hyderabad</td>\n",
              "      <td>Royal Challengers Bangalore</td>\n",
              "      <td>1</td>\n",
              "      <td>4</td>\n",
              "      <td>DA Warner</td>\n",
              "      <td>S Dhawan</td>\n",
              "      <td>TS Mills</td>\n",
              "      <td>0</td>\n",
              "      <td>0</td>\n",
              "      <td>0</td>\n",
              "      <td>0</td>\n",
              "      <td>0</td>\n",
              "      <td>0</td>\n",
              "      <td>0</td>\n",
              "      <td>0</td>\n",
              "      <td>0</td>\n",
              "      <td>NaN</td>\n",
              "      <td>1</td>\n",
              "      <td>Hyderabad</td>\n",
              "      <td>2017-04-05</td>\n",
              "      <td>Sunrisers Hyderabad</td>\n",
              "      <td>Royal Challengers Bangalore</td>\n",
              "      <td>Royal Challengers Bangalore</td>\n",
              "      <td>field</td>\n",
              "      <td>normal</td>\n",
              "      <td>Sunrisers Hyderabad</td>\n",
              "      <td>35</td>\n",
              "      <td>0</td>\n",
              "      <td>Yuvraj Singh</td>\n",
              "      <td>Rajiv Gandhi International Stadium, Uppal</td>\n",
              "      <td>AY Dandekar</td>\n",
              "      <td>NJ Llong</td>\n",
              "      <td>NA</td>\n",
              "    </tr>\n",
              "    <tr>\n",
              "      <th>4</th>\n",
              "      <td>1</td>\n",
              "      <td>1</td>\n",
              "      <td>Sunrisers Hyderabad</td>\n",
              "      <td>Royal Challengers Bangalore</td>\n",
              "      <td>1</td>\n",
              "      <td>5</td>\n",
              "      <td>DA Warner</td>\n",
              "      <td>S Dhawan</td>\n",
              "      <td>TS Mills</td>\n",
              "      <td>0</td>\n",
              "      <td>2</td>\n",
              "      <td>0</td>\n",
              "      <td>0</td>\n",
              "      <td>0</td>\n",
              "      <td>0</td>\n",
              "      <td>0</td>\n",
              "      <td>2</td>\n",
              "      <td>2</td>\n",
              "      <td>NaN</td>\n",
              "      <td>1</td>\n",
              "      <td>Hyderabad</td>\n",
              "      <td>2017-04-05</td>\n",
              "      <td>Sunrisers Hyderabad</td>\n",
              "      <td>Royal Challengers Bangalore</td>\n",
              "      <td>Royal Challengers Bangalore</td>\n",
              "      <td>field</td>\n",
              "      <td>normal</td>\n",
              "      <td>Sunrisers Hyderabad</td>\n",
              "      <td>35</td>\n",
              "      <td>0</td>\n",
              "      <td>Yuvraj Singh</td>\n",
              "      <td>Rajiv Gandhi International Stadium, Uppal</td>\n",
              "      <td>AY Dandekar</td>\n",
              "      <td>NJ Llong</td>\n",
              "      <td>NA</td>\n",
              "    </tr>\n",
              "  </tbody>\n",
              "</table>\n",
              "</div>"
            ],
            "text/plain": [
              "   match_id  inning         batting_team  ...      umpire1   umpire2  umpire3\n",
              "0         1       1  Sunrisers Hyderabad  ...  AY Dandekar  NJ Llong       NA\n",
              "1         1       1  Sunrisers Hyderabad  ...  AY Dandekar  NJ Llong       NA\n",
              "2         1       1  Sunrisers Hyderabad  ...  AY Dandekar  NJ Llong       NA\n",
              "3         1       1  Sunrisers Hyderabad  ...  AY Dandekar  NJ Llong       NA\n",
              "4         1       1  Sunrisers Hyderabad  ...  AY Dandekar  NJ Llong       NA\n",
              "\n",
              "[5 rows x 35 columns]"
            ]
          },
          "metadata": {
            "tags": []
          },
          "execution_count": 32
        }
      ]
    },
    {
      "cell_type": "code",
      "metadata": {
        "colab": {
          "base_uri": "https://localhost:8080/"
        },
        "id": "0k3AzNX2V9yh",
        "outputId": "85611a7d-4f6e-4571-a700-88af3f0b873a"
      },
      "source": [
        "print('Shape:', delivery.shape)\n",
        "print('Size:', delivery.size)"
      ],
      "execution_count": 33,
      "outputs": [
        {
          "output_type": "stream",
          "text": [
            "Shape: (179078, 35)\n",
            "Size: 6267730\n"
          ],
          "name": "stdout"
        }
      ]
    },
    {
      "cell_type": "code",
      "metadata": {
        "colab": {
          "base_uri": "https://localhost:8080/"
        },
        "id": "uZyRUiO_WAVv",
        "outputId": "f15942c8-de68-4660-8136-9d475e17c6e1"
      },
      "source": [
        "delivery.isnull().sum()"
      ],
      "execution_count": 34,
      "outputs": [
        {
          "output_type": "execute_result",
          "data": {
            "text/plain": [
              "match_id                 0\n",
              "inning                   0\n",
              "batting_team             0\n",
              "bowling_team             0\n",
              "over                     0\n",
              "ball                     0\n",
              "batsman                  0\n",
              "non_striker              0\n",
              "bowler                   0\n",
              "is_super_over            0\n",
              "wide_runs                0\n",
              "bye_runs                 0\n",
              "legbye_runs              0\n",
              "noball_runs              0\n",
              "penalty_runs             0\n",
              "batsman_runs             0\n",
              "extra_runs               0\n",
              "total_runs               0\n",
              "player_dismissed    170244\n",
              "id                       0\n",
              "city                     0\n",
              "date                     0\n",
              "team1                    0\n",
              "team2                    0\n",
              "toss_winner              0\n",
              "toss_decision            0\n",
              "result                   0\n",
              "winner                   0\n",
              "Bat_1                    0\n",
              "Ball_1                   0\n",
              "player_of_match          0\n",
              "venue                    0\n",
              "umpire1                  0\n",
              "umpire2                  0\n",
              "umpire3                  0\n",
              "dtype: int64"
            ]
          },
          "metadata": {
            "tags": []
          },
          "execution_count": 34
        }
      ]
    },
    {
      "cell_type": "code",
      "metadata": {
        "colab": {
          "base_uri": "https://localhost:8080/"
        },
        "id": "AlW_qTUbWE0A",
        "outputId": "e21f939f-c965-4ace-befc-3d1a4cd52f96"
      },
      "source": [
        "delivery['player_dismissed'].fillna(value='NA', inplace=True)\n",
        "delivery.isnull().sum()"
      ],
      "execution_count": 35,
      "outputs": [
        {
          "output_type": "execute_result",
          "data": {
            "text/plain": [
              "match_id            0\n",
              "inning              0\n",
              "batting_team        0\n",
              "bowling_team        0\n",
              "over                0\n",
              "ball                0\n",
              "batsman             0\n",
              "non_striker         0\n",
              "bowler              0\n",
              "is_super_over       0\n",
              "wide_runs           0\n",
              "bye_runs            0\n",
              "legbye_runs         0\n",
              "noball_runs         0\n",
              "penalty_runs        0\n",
              "batsman_runs        0\n",
              "extra_runs          0\n",
              "total_runs          0\n",
              "player_dismissed    0\n",
              "id                  0\n",
              "city                0\n",
              "date                0\n",
              "team1               0\n",
              "team2               0\n",
              "toss_winner         0\n",
              "toss_decision       0\n",
              "result              0\n",
              "winner              0\n",
              "Bat_1               0\n",
              "Ball_1              0\n",
              "player_of_match     0\n",
              "venue               0\n",
              "umpire1             0\n",
              "umpire2             0\n",
              "umpire3             0\n",
              "dtype: int64"
            ]
          },
          "metadata": {
            "tags": []
          },
          "execution_count": 35
        }
      ]
    },
    {
      "cell_type": "code",
      "metadata": {
        "colab": {
          "base_uri": "https://localhost:8080/"
        },
        "id": "uhR1LePIWMvN",
        "outputId": "de06e7c7-e2a2-4665-97ae-08e79daff37f"
      },
      "source": [
        "delivery.duplicated().sum()"
      ],
      "execution_count": 36,
      "outputs": [
        {
          "output_type": "execute_result",
          "data": {
            "text/plain": [
              "23"
            ]
          },
          "metadata": {
            "tags": []
          },
          "execution_count": 36
        }
      ]
    },
    {
      "cell_type": "code",
      "metadata": {
        "colab": {
          "base_uri": "https://localhost:8080/",
          "height": 1000
        },
        "id": "SrEx5E3HWPmk",
        "outputId": "47fa8e72-8eba-4ff9-cd49-3cedb2f69256"
      },
      "source": [
        "delivery.drop_duplicates()"
      ],
      "execution_count": 37,
      "outputs": [
        {
          "output_type": "execute_result",
          "data": {
            "text/html": [
              "<div>\n",
              "<style scoped>\n",
              "    .dataframe tbody tr th:only-of-type {\n",
              "        vertical-align: middle;\n",
              "    }\n",
              "\n",
              "    .dataframe tbody tr th {\n",
              "        vertical-align: top;\n",
              "    }\n",
              "\n",
              "    .dataframe thead th {\n",
              "        text-align: right;\n",
              "    }\n",
              "</style>\n",
              "<table border=\"1\" class=\"dataframe\">\n",
              "  <thead>\n",
              "    <tr style=\"text-align: right;\">\n",
              "      <th></th>\n",
              "      <th>match_id</th>\n",
              "      <th>inning</th>\n",
              "      <th>batting_team</th>\n",
              "      <th>bowling_team</th>\n",
              "      <th>over</th>\n",
              "      <th>ball</th>\n",
              "      <th>batsman</th>\n",
              "      <th>non_striker</th>\n",
              "      <th>bowler</th>\n",
              "      <th>is_super_over</th>\n",
              "      <th>wide_runs</th>\n",
              "      <th>bye_runs</th>\n",
              "      <th>legbye_runs</th>\n",
              "      <th>noball_runs</th>\n",
              "      <th>penalty_runs</th>\n",
              "      <th>batsman_runs</th>\n",
              "      <th>extra_runs</th>\n",
              "      <th>total_runs</th>\n",
              "      <th>player_dismissed</th>\n",
              "      <th>id</th>\n",
              "      <th>city</th>\n",
              "      <th>date</th>\n",
              "      <th>team1</th>\n",
              "      <th>team2</th>\n",
              "      <th>toss_winner</th>\n",
              "      <th>toss_decision</th>\n",
              "      <th>result</th>\n",
              "      <th>winner</th>\n",
              "      <th>Bat_1</th>\n",
              "      <th>Ball_1</th>\n",
              "      <th>player_of_match</th>\n",
              "      <th>venue</th>\n",
              "      <th>umpire1</th>\n",
              "      <th>umpire2</th>\n",
              "      <th>umpire3</th>\n",
              "    </tr>\n",
              "  </thead>\n",
              "  <tbody>\n",
              "    <tr>\n",
              "      <th>0</th>\n",
              "      <td>1</td>\n",
              "      <td>1</td>\n",
              "      <td>Sunrisers Hyderabad</td>\n",
              "      <td>Royal Challengers Bangalore</td>\n",
              "      <td>1</td>\n",
              "      <td>1</td>\n",
              "      <td>DA Warner</td>\n",
              "      <td>S Dhawan</td>\n",
              "      <td>TS Mills</td>\n",
              "      <td>0</td>\n",
              "      <td>0</td>\n",
              "      <td>0</td>\n",
              "      <td>0</td>\n",
              "      <td>0</td>\n",
              "      <td>0</td>\n",
              "      <td>0</td>\n",
              "      <td>0</td>\n",
              "      <td>0</td>\n",
              "      <td>NA</td>\n",
              "      <td>1</td>\n",
              "      <td>Hyderabad</td>\n",
              "      <td>2017-04-05</td>\n",
              "      <td>Sunrisers Hyderabad</td>\n",
              "      <td>Royal Challengers Bangalore</td>\n",
              "      <td>Royal Challengers Bangalore</td>\n",
              "      <td>field</td>\n",
              "      <td>normal</td>\n",
              "      <td>Sunrisers Hyderabad</td>\n",
              "      <td>35</td>\n",
              "      <td>0</td>\n",
              "      <td>Yuvraj Singh</td>\n",
              "      <td>Rajiv Gandhi International Stadium, Uppal</td>\n",
              "      <td>AY Dandekar</td>\n",
              "      <td>NJ Llong</td>\n",
              "      <td>NA</td>\n",
              "    </tr>\n",
              "    <tr>\n",
              "      <th>1</th>\n",
              "      <td>1</td>\n",
              "      <td>1</td>\n",
              "      <td>Sunrisers Hyderabad</td>\n",
              "      <td>Royal Challengers Bangalore</td>\n",
              "      <td>1</td>\n",
              "      <td>2</td>\n",
              "      <td>DA Warner</td>\n",
              "      <td>S Dhawan</td>\n",
              "      <td>TS Mills</td>\n",
              "      <td>0</td>\n",
              "      <td>0</td>\n",
              "      <td>0</td>\n",
              "      <td>0</td>\n",
              "      <td>0</td>\n",
              "      <td>0</td>\n",
              "      <td>0</td>\n",
              "      <td>0</td>\n",
              "      <td>0</td>\n",
              "      <td>NA</td>\n",
              "      <td>1</td>\n",
              "      <td>Hyderabad</td>\n",
              "      <td>2017-04-05</td>\n",
              "      <td>Sunrisers Hyderabad</td>\n",
              "      <td>Royal Challengers Bangalore</td>\n",
              "      <td>Royal Challengers Bangalore</td>\n",
              "      <td>field</td>\n",
              "      <td>normal</td>\n",
              "      <td>Sunrisers Hyderabad</td>\n",
              "      <td>35</td>\n",
              "      <td>0</td>\n",
              "      <td>Yuvraj Singh</td>\n",
              "      <td>Rajiv Gandhi International Stadium, Uppal</td>\n",
              "      <td>AY Dandekar</td>\n",
              "      <td>NJ Llong</td>\n",
              "      <td>NA</td>\n",
              "    </tr>\n",
              "    <tr>\n",
              "      <th>2</th>\n",
              "      <td>1</td>\n",
              "      <td>1</td>\n",
              "      <td>Sunrisers Hyderabad</td>\n",
              "      <td>Royal Challengers Bangalore</td>\n",
              "      <td>1</td>\n",
              "      <td>3</td>\n",
              "      <td>DA Warner</td>\n",
              "      <td>S Dhawan</td>\n",
              "      <td>TS Mills</td>\n",
              "      <td>0</td>\n",
              "      <td>0</td>\n",
              "      <td>0</td>\n",
              "      <td>0</td>\n",
              "      <td>0</td>\n",
              "      <td>0</td>\n",
              "      <td>4</td>\n",
              "      <td>0</td>\n",
              "      <td>4</td>\n",
              "      <td>NA</td>\n",
              "      <td>1</td>\n",
              "      <td>Hyderabad</td>\n",
              "      <td>2017-04-05</td>\n",
              "      <td>Sunrisers Hyderabad</td>\n",
              "      <td>Royal Challengers Bangalore</td>\n",
              "      <td>Royal Challengers Bangalore</td>\n",
              "      <td>field</td>\n",
              "      <td>normal</td>\n",
              "      <td>Sunrisers Hyderabad</td>\n",
              "      <td>35</td>\n",
              "      <td>0</td>\n",
              "      <td>Yuvraj Singh</td>\n",
              "      <td>Rajiv Gandhi International Stadium, Uppal</td>\n",
              "      <td>AY Dandekar</td>\n",
              "      <td>NJ Llong</td>\n",
              "      <td>NA</td>\n",
              "    </tr>\n",
              "    <tr>\n",
              "      <th>3</th>\n",
              "      <td>1</td>\n",
              "      <td>1</td>\n",
              "      <td>Sunrisers Hyderabad</td>\n",
              "      <td>Royal Challengers Bangalore</td>\n",
              "      <td>1</td>\n",
              "      <td>4</td>\n",
              "      <td>DA Warner</td>\n",
              "      <td>S Dhawan</td>\n",
              "      <td>TS Mills</td>\n",
              "      <td>0</td>\n",
              "      <td>0</td>\n",
              "      <td>0</td>\n",
              "      <td>0</td>\n",
              "      <td>0</td>\n",
              "      <td>0</td>\n",
              "      <td>0</td>\n",
              "      <td>0</td>\n",
              "      <td>0</td>\n",
              "      <td>NA</td>\n",
              "      <td>1</td>\n",
              "      <td>Hyderabad</td>\n",
              "      <td>2017-04-05</td>\n",
              "      <td>Sunrisers Hyderabad</td>\n",
              "      <td>Royal Challengers Bangalore</td>\n",
              "      <td>Royal Challengers Bangalore</td>\n",
              "      <td>field</td>\n",
              "      <td>normal</td>\n",
              "      <td>Sunrisers Hyderabad</td>\n",
              "      <td>35</td>\n",
              "      <td>0</td>\n",
              "      <td>Yuvraj Singh</td>\n",
              "      <td>Rajiv Gandhi International Stadium, Uppal</td>\n",
              "      <td>AY Dandekar</td>\n",
              "      <td>NJ Llong</td>\n",
              "      <td>NA</td>\n",
              "    </tr>\n",
              "    <tr>\n",
              "      <th>4</th>\n",
              "      <td>1</td>\n",
              "      <td>1</td>\n",
              "      <td>Sunrisers Hyderabad</td>\n",
              "      <td>Royal Challengers Bangalore</td>\n",
              "      <td>1</td>\n",
              "      <td>5</td>\n",
              "      <td>DA Warner</td>\n",
              "      <td>S Dhawan</td>\n",
              "      <td>TS Mills</td>\n",
              "      <td>0</td>\n",
              "      <td>2</td>\n",
              "      <td>0</td>\n",
              "      <td>0</td>\n",
              "      <td>0</td>\n",
              "      <td>0</td>\n",
              "      <td>0</td>\n",
              "      <td>2</td>\n",
              "      <td>2</td>\n",
              "      <td>NA</td>\n",
              "      <td>1</td>\n",
              "      <td>Hyderabad</td>\n",
              "      <td>2017-04-05</td>\n",
              "      <td>Sunrisers Hyderabad</td>\n",
              "      <td>Royal Challengers Bangalore</td>\n",
              "      <td>Royal Challengers Bangalore</td>\n",
              "      <td>field</td>\n",
              "      <td>normal</td>\n",
              "      <td>Sunrisers Hyderabad</td>\n",
              "      <td>35</td>\n",
              "      <td>0</td>\n",
              "      <td>Yuvraj Singh</td>\n",
              "      <td>Rajiv Gandhi International Stadium, Uppal</td>\n",
              "      <td>AY Dandekar</td>\n",
              "      <td>NJ Llong</td>\n",
              "      <td>NA</td>\n",
              "    </tr>\n",
              "    <tr>\n",
              "      <th>...</th>\n",
              "      <td>...</td>\n",
              "      <td>...</td>\n",
              "      <td>...</td>\n",
              "      <td>...</td>\n",
              "      <td>...</td>\n",
              "      <td>...</td>\n",
              "      <td>...</td>\n",
              "      <td>...</td>\n",
              "      <td>...</td>\n",
              "      <td>...</td>\n",
              "      <td>...</td>\n",
              "      <td>...</td>\n",
              "      <td>...</td>\n",
              "      <td>...</td>\n",
              "      <td>...</td>\n",
              "      <td>...</td>\n",
              "      <td>...</td>\n",
              "      <td>...</td>\n",
              "      <td>...</td>\n",
              "      <td>...</td>\n",
              "      <td>...</td>\n",
              "      <td>...</td>\n",
              "      <td>...</td>\n",
              "      <td>...</td>\n",
              "      <td>...</td>\n",
              "      <td>...</td>\n",
              "      <td>...</td>\n",
              "      <td>...</td>\n",
              "      <td>...</td>\n",
              "      <td>...</td>\n",
              "      <td>...</td>\n",
              "      <td>...</td>\n",
              "      <td>...</td>\n",
              "      <td>...</td>\n",
              "      <td>...</td>\n",
              "    </tr>\n",
              "    <tr>\n",
              "      <th>179073</th>\n",
              "      <td>11415</td>\n",
              "      <td>2</td>\n",
              "      <td>Chennai Super Kings</td>\n",
              "      <td>Mumbai Indians</td>\n",
              "      <td>20</td>\n",
              "      <td>2</td>\n",
              "      <td>RA Jadeja</td>\n",
              "      <td>SR Watson</td>\n",
              "      <td>SL Malinga</td>\n",
              "      <td>0</td>\n",
              "      <td>0</td>\n",
              "      <td>0</td>\n",
              "      <td>0</td>\n",
              "      <td>0</td>\n",
              "      <td>0</td>\n",
              "      <td>1</td>\n",
              "      <td>0</td>\n",
              "      <td>1</td>\n",
              "      <td>NA</td>\n",
              "      <td>11415</td>\n",
              "      <td>Hyderabad</td>\n",
              "      <td>12/05/19</td>\n",
              "      <td>Mumbai Indians</td>\n",
              "      <td>Chennai Super Kings</td>\n",
              "      <td>Mumbai Indians</td>\n",
              "      <td>bat</td>\n",
              "      <td>normal</td>\n",
              "      <td>Mumbai Indians</td>\n",
              "      <td>1</td>\n",
              "      <td>0</td>\n",
              "      <td>JJ Bumrah</td>\n",
              "      <td>Rajiv Gandhi Intl. Cricket Stadium</td>\n",
              "      <td>Nitin Menon</td>\n",
              "      <td>Ian Gould</td>\n",
              "      <td>Nigel Llong</td>\n",
              "    </tr>\n",
              "    <tr>\n",
              "      <th>179074</th>\n",
              "      <td>11415</td>\n",
              "      <td>2</td>\n",
              "      <td>Chennai Super Kings</td>\n",
              "      <td>Mumbai Indians</td>\n",
              "      <td>20</td>\n",
              "      <td>3</td>\n",
              "      <td>SR Watson</td>\n",
              "      <td>RA Jadeja</td>\n",
              "      <td>SL Malinga</td>\n",
              "      <td>0</td>\n",
              "      <td>0</td>\n",
              "      <td>0</td>\n",
              "      <td>0</td>\n",
              "      <td>0</td>\n",
              "      <td>0</td>\n",
              "      <td>2</td>\n",
              "      <td>0</td>\n",
              "      <td>2</td>\n",
              "      <td>NA</td>\n",
              "      <td>11415</td>\n",
              "      <td>Hyderabad</td>\n",
              "      <td>12/05/19</td>\n",
              "      <td>Mumbai Indians</td>\n",
              "      <td>Chennai Super Kings</td>\n",
              "      <td>Mumbai Indians</td>\n",
              "      <td>bat</td>\n",
              "      <td>normal</td>\n",
              "      <td>Mumbai Indians</td>\n",
              "      <td>1</td>\n",
              "      <td>0</td>\n",
              "      <td>JJ Bumrah</td>\n",
              "      <td>Rajiv Gandhi Intl. Cricket Stadium</td>\n",
              "      <td>Nitin Menon</td>\n",
              "      <td>Ian Gould</td>\n",
              "      <td>Nigel Llong</td>\n",
              "    </tr>\n",
              "    <tr>\n",
              "      <th>179075</th>\n",
              "      <td>11415</td>\n",
              "      <td>2</td>\n",
              "      <td>Chennai Super Kings</td>\n",
              "      <td>Mumbai Indians</td>\n",
              "      <td>20</td>\n",
              "      <td>4</td>\n",
              "      <td>SR Watson</td>\n",
              "      <td>RA Jadeja</td>\n",
              "      <td>SL Malinga</td>\n",
              "      <td>0</td>\n",
              "      <td>0</td>\n",
              "      <td>0</td>\n",
              "      <td>0</td>\n",
              "      <td>0</td>\n",
              "      <td>0</td>\n",
              "      <td>1</td>\n",
              "      <td>0</td>\n",
              "      <td>1</td>\n",
              "      <td>SR Watson</td>\n",
              "      <td>11415</td>\n",
              "      <td>Hyderabad</td>\n",
              "      <td>12/05/19</td>\n",
              "      <td>Mumbai Indians</td>\n",
              "      <td>Chennai Super Kings</td>\n",
              "      <td>Mumbai Indians</td>\n",
              "      <td>bat</td>\n",
              "      <td>normal</td>\n",
              "      <td>Mumbai Indians</td>\n",
              "      <td>1</td>\n",
              "      <td>0</td>\n",
              "      <td>JJ Bumrah</td>\n",
              "      <td>Rajiv Gandhi Intl. Cricket Stadium</td>\n",
              "      <td>Nitin Menon</td>\n",
              "      <td>Ian Gould</td>\n",
              "      <td>Nigel Llong</td>\n",
              "    </tr>\n",
              "    <tr>\n",
              "      <th>179076</th>\n",
              "      <td>11415</td>\n",
              "      <td>2</td>\n",
              "      <td>Chennai Super Kings</td>\n",
              "      <td>Mumbai Indians</td>\n",
              "      <td>20</td>\n",
              "      <td>5</td>\n",
              "      <td>SN Thakur</td>\n",
              "      <td>RA Jadeja</td>\n",
              "      <td>SL Malinga</td>\n",
              "      <td>0</td>\n",
              "      <td>0</td>\n",
              "      <td>0</td>\n",
              "      <td>0</td>\n",
              "      <td>0</td>\n",
              "      <td>0</td>\n",
              "      <td>2</td>\n",
              "      <td>0</td>\n",
              "      <td>2</td>\n",
              "      <td>NA</td>\n",
              "      <td>11415</td>\n",
              "      <td>Hyderabad</td>\n",
              "      <td>12/05/19</td>\n",
              "      <td>Mumbai Indians</td>\n",
              "      <td>Chennai Super Kings</td>\n",
              "      <td>Mumbai Indians</td>\n",
              "      <td>bat</td>\n",
              "      <td>normal</td>\n",
              "      <td>Mumbai Indians</td>\n",
              "      <td>1</td>\n",
              "      <td>0</td>\n",
              "      <td>JJ Bumrah</td>\n",
              "      <td>Rajiv Gandhi Intl. Cricket Stadium</td>\n",
              "      <td>Nitin Menon</td>\n",
              "      <td>Ian Gould</td>\n",
              "      <td>Nigel Llong</td>\n",
              "    </tr>\n",
              "    <tr>\n",
              "      <th>179077</th>\n",
              "      <td>11415</td>\n",
              "      <td>2</td>\n",
              "      <td>Chennai Super Kings</td>\n",
              "      <td>Mumbai Indians</td>\n",
              "      <td>20</td>\n",
              "      <td>6</td>\n",
              "      <td>SN Thakur</td>\n",
              "      <td>RA Jadeja</td>\n",
              "      <td>SL Malinga</td>\n",
              "      <td>0</td>\n",
              "      <td>0</td>\n",
              "      <td>0</td>\n",
              "      <td>0</td>\n",
              "      <td>0</td>\n",
              "      <td>0</td>\n",
              "      <td>0</td>\n",
              "      <td>0</td>\n",
              "      <td>0</td>\n",
              "      <td>SN Thakur</td>\n",
              "      <td>11415</td>\n",
              "      <td>Hyderabad</td>\n",
              "      <td>12/05/19</td>\n",
              "      <td>Mumbai Indians</td>\n",
              "      <td>Chennai Super Kings</td>\n",
              "      <td>Mumbai Indians</td>\n",
              "      <td>bat</td>\n",
              "      <td>normal</td>\n",
              "      <td>Mumbai Indians</td>\n",
              "      <td>1</td>\n",
              "      <td>0</td>\n",
              "      <td>JJ Bumrah</td>\n",
              "      <td>Rajiv Gandhi Intl. Cricket Stadium</td>\n",
              "      <td>Nitin Menon</td>\n",
              "      <td>Ian Gould</td>\n",
              "      <td>Nigel Llong</td>\n",
              "    </tr>\n",
              "  </tbody>\n",
              "</table>\n",
              "<p>179055 rows × 35 columns</p>\n",
              "</div>"
            ],
            "text/plain": [
              "        match_id  inning  ...    umpire2      umpire3\n",
              "0              1       1  ...   NJ Llong           NA\n",
              "1              1       1  ...   NJ Llong           NA\n",
              "2              1       1  ...   NJ Llong           NA\n",
              "3              1       1  ...   NJ Llong           NA\n",
              "4              1       1  ...   NJ Llong           NA\n",
              "...          ...     ...  ...        ...          ...\n",
              "179073     11415       2  ...  Ian Gould  Nigel Llong\n",
              "179074     11415       2  ...  Ian Gould  Nigel Llong\n",
              "179075     11415       2  ...  Ian Gould  Nigel Llong\n",
              "179076     11415       2  ...  Ian Gould  Nigel Llong\n",
              "179077     11415       2  ...  Ian Gould  Nigel Llong\n",
              "\n",
              "[179055 rows x 35 columns]"
            ]
          },
          "metadata": {
            "tags": []
          },
          "execution_count": 37
        }
      ]
    },
    {
      "cell_type": "code",
      "metadata": {
        "colab": {
          "base_uri": "https://localhost:8080/",
          "height": 928
        },
        "id": "yWdg6JQDWUbX",
        "outputId": "14b6831e-04c8-46a9-9292-c9d5e1f4f3f4"
      },
      "source": [
        "plt.figure(figsize=(15,15))\n",
        "hm = sns.heatmap(delivery.corr(), annot=True, linewidth=1, cmap='twilight_shifted')"
      ],
      "execution_count": 38,
      "outputs": [
        {
          "output_type": "display_data",
          "data": {
            "image/png": "[encoded data removed]",
            "text/plain": [
              "<Figure size 1080x1080 with 2 Axes>"
            ]
          },
          "metadata": {
            "tags": [],
            "needs_background": "light"
          }
        }
      ]
    },
    {
      "cell_type": "markdown",
      "metadata": {
        "id": "YUUc9IDsWabE"
      },
      "source": [
        "# Number of Matches Played in Each Stadium"
      ]
    },
    {
      "cell_type": "code",
      "metadata": {
        "colab": {
          "base_uri": "https://localhost:8080/",
          "height": 606
        },
        "id": "vw9MJNxLWdnY",
        "outputId": "baf28979-933d-4197-8bc9-a30364ba7f94"
      },
      "source": [
        "delivery.venue.value_counts()\n",
        "plt.figure(figsize=(10,10))\n",
        "sns.countplot(data=delivery, y='venue')\n",
        "plt.show()"
      ],
      "execution_count": 39,
      "outputs": [
        {
          "output_type": "display_data",
          "data": {
            "image/png": "[encoded data removed]",
            "text/plain": [
              "<Figure size 720x720 with 1 Axes>"
            ]
          },
          "metadata": {
            "tags": [],
            "needs_background": "light"
          }
        }
      ]
    },
    {
      "cell_type": "markdown",
      "metadata": {
        "id": "RROljdj3WiYB"
      },
      "source": [
        "Most matches have been played in Eden Gardens followed by Wankhede Stadium.\n",
        "Teams who win toss choose to field first"
      ]
    },
    {
      "cell_type": "code",
      "metadata": {
        "colab": {
          "base_uri": "https://localhost:8080/",
          "height": 514
        },
        "id": "cVI57veKWjWH",
        "outputId": "8363a289-7ac3-45f7-9cea-bea7da99d413"
      },
      "source": [
        "team_stats = pd.DataFrame({'Total Matches played': sports.team1.value_counts() + sports.team2.value_counts(), 'Total won': sports.winner.value_counts(), 'Toss won': sports.toss_winner.value_counts(), \n",
        "                          'Total lost': ((sports.team1.value_counts() + sports.team2.value_counts()) - sports.winner.value_counts())})\n",
        "team_stats = team_stats.reset_index()\n",
        "team_stats.rename(columns = {'index':'Teams'}, inplace = True)\n",
        "winloss = team_stats['Total won'] / team_stats['Total Matches played']\n",
        "winloss = pd.DataFrame({'Winloss Ratio': team_stats['Total won'] / team_stats['Total Matches played']})\n",
        "winloss= winloss.round(2)\n",
        "team_stats = team_stats.join(winloss)\n",
        "team_stats"
      ],
      "execution_count": 40,
      "outputs": [
        {
          "output_type": "execute_result",
          "data": {
            "text/html": [
              "<div>\n",
              "<style scoped>\n",
              "    .dataframe tbody tr th:only-of-type {\n",
              "        vertical-align: middle;\n",
              "    }\n",
              "\n",
              "    .dataframe tbody tr th {\n",
              "        vertical-align: top;\n",
              "    }\n",
              "\n",
              "    .dataframe thead th {\n",
              "        text-align: right;\n",
              "    }\n",
              "</style>\n",
              "<table border=\"1\" class=\"dataframe\">\n",
              "  <thead>\n",
              "    <tr style=\"text-align: right;\">\n",
              "      <th></th>\n",
              "      <th>Teams</th>\n",
              "      <th>Total Matches played</th>\n",
              "      <th>Total won</th>\n",
              "      <th>Toss won</th>\n",
              "      <th>Total lost</th>\n",
              "      <th>Winloss Ratio</th>\n",
              "    </tr>\n",
              "  </thead>\n",
              "  <tbody>\n",
              "    <tr>\n",
              "      <th>0</th>\n",
              "      <td>Chennai Super Kings</td>\n",
              "      <td>164</td>\n",
              "      <td>100</td>\n",
              "      <td>89</td>\n",
              "      <td>64</td>\n",
              "      <td>0.61</td>\n",
              "    </tr>\n",
              "    <tr>\n",
              "      <th>1</th>\n",
              "      <td>Deccan Chargers</td>\n",
              "      <td>75</td>\n",
              "      <td>29</td>\n",
              "      <td>43</td>\n",
              "      <td>46</td>\n",
              "      <td>0.39</td>\n",
              "    </tr>\n",
              "    <tr>\n",
              "      <th>2</th>\n",
              "      <td>Delhi Capitals</td>\n",
              "      <td>16</td>\n",
              "      <td>10</td>\n",
              "      <td>10</td>\n",
              "      <td>6</td>\n",
              "      <td>0.62</td>\n",
              "    </tr>\n",
              "    <tr>\n",
              "      <th>3</th>\n",
              "      <td>Delhi Daredevils</td>\n",
              "      <td>161</td>\n",
              "      <td>67</td>\n",
              "      <td>80</td>\n",
              "      <td>94</td>\n",
              "      <td>0.42</td>\n",
              "    </tr>\n",
              "    <tr>\n",
              "      <th>4</th>\n",
              "      <td>Gujarat Lions</td>\n",
              "      <td>30</td>\n",
              "      <td>13</td>\n",
              "      <td>15</td>\n",
              "      <td>17</td>\n",
              "      <td>0.43</td>\n",
              "    </tr>\n",
              "    <tr>\n",
              "      <th>5</th>\n",
              "      <td>Kings XI Punjab</td>\n",
              "      <td>176</td>\n",
              "      <td>82</td>\n",
              "      <td>81</td>\n",
              "      <td>94</td>\n",
              "      <td>0.47</td>\n",
              "    </tr>\n",
              "    <tr>\n",
              "      <th>6</th>\n",
              "      <td>Kochi Tuskers Kerala</td>\n",
              "      <td>14</td>\n",
              "      <td>6</td>\n",
              "      <td>8</td>\n",
              "      <td>8</td>\n",
              "      <td>0.43</td>\n",
              "    </tr>\n",
              "    <tr>\n",
              "      <th>7</th>\n",
              "      <td>Kolkata Knight Riders</td>\n",
              "      <td>178</td>\n",
              "      <td>92</td>\n",
              "      <td>92</td>\n",
              "      <td>86</td>\n",
              "      <td>0.52</td>\n",
              "    </tr>\n",
              "    <tr>\n",
              "      <th>8</th>\n",
              "      <td>Mumbai Indians</td>\n",
              "      <td>187</td>\n",
              "      <td>113</td>\n",
              "      <td>98</td>\n",
              "      <td>74</td>\n",
              "      <td>0.60</td>\n",
              "    </tr>\n",
              "    <tr>\n",
              "      <th>9</th>\n",
              "      <td>Pune Warriors</td>\n",
              "      <td>46</td>\n",
              "      <td>12</td>\n",
              "      <td>20</td>\n",
              "      <td>34</td>\n",
              "      <td>0.26</td>\n",
              "    </tr>\n",
              "    <tr>\n",
              "      <th>10</th>\n",
              "      <td>Rajasthan Royals</td>\n",
              "      <td>147</td>\n",
              "      <td>75</td>\n",
              "      <td>80</td>\n",
              "      <td>72</td>\n",
              "      <td>0.51</td>\n",
              "    </tr>\n",
              "    <tr>\n",
              "      <th>11</th>\n",
              "      <td>Rising Pune Supergiant</td>\n",
              "      <td>16</td>\n",
              "      <td>10</td>\n",
              "      <td>6</td>\n",
              "      <td>6</td>\n",
              "      <td>0.62</td>\n",
              "    </tr>\n",
              "    <tr>\n",
              "      <th>12</th>\n",
              "      <td>Rising Pune Supergiants</td>\n",
              "      <td>14</td>\n",
              "      <td>5</td>\n",
              "      <td>7</td>\n",
              "      <td>9</td>\n",
              "      <td>0.36</td>\n",
              "    </tr>\n",
              "    <tr>\n",
              "      <th>13</th>\n",
              "      <td>Royal Challengers Bangalore</td>\n",
              "      <td>180</td>\n",
              "      <td>84</td>\n",
              "      <td>81</td>\n",
              "      <td>96</td>\n",
              "      <td>0.47</td>\n",
              "    </tr>\n",
              "    <tr>\n",
              "      <th>14</th>\n",
              "      <td>Sunrisers Hyderabad</td>\n",
              "      <td>108</td>\n",
              "      <td>58</td>\n",
              "      <td>46</td>\n",
              "      <td>50</td>\n",
              "      <td>0.54</td>\n",
              "    </tr>\n",
              "  </tbody>\n",
              "</table>\n",
              "</div>"
            ],
            "text/plain": [
              "                          Teams  ...  Winloss Ratio\n",
              "0           Chennai Super Kings  ...           0.61\n",
              "1               Deccan Chargers  ...           0.39\n",
              "2                Delhi Capitals  ...           0.62\n",
              "3              Delhi Daredevils  ...           0.42\n",
              "4                 Gujarat Lions  ...           0.43\n",
              "5               Kings XI Punjab  ...           0.47\n",
              "6          Kochi Tuskers Kerala  ...           0.43\n",
              "7         Kolkata Knight Riders  ...           0.52\n",
              "8                Mumbai Indians  ...           0.60\n",
              "9                 Pune Warriors  ...           0.26\n",
              "10             Rajasthan Royals  ...           0.51\n",
              "11       Rising Pune Supergiant  ...           0.62\n",
              "12      Rising Pune Supergiants  ...           0.36\n",
              "13  Royal Challengers Bangalore  ...           0.47\n",
              "14          Sunrisers Hyderabad  ...           0.54\n",
              "\n",
              "[15 rows x 6 columns]"
            ]
          },
          "metadata": {
            "tags": []
          },
          "execution_count": 40
        }
      ]
    },
    {
      "cell_type": "markdown",
      "metadata": {
        "id": "uhZJSx6XW4P-"
      },
      "source": [
        "# Maximum Toss Won"
      ]
    },
    {
      "cell_type": "code",
      "metadata": {
        "colab": {
          "base_uri": "https://localhost:8080/",
          "height": 461
        },
        "id": "jZgA8ghzW7Kw",
        "outputId": "27a2f686-17e8-4a2c-844f-6afefc6794e8"
      },
      "source": [
        "plt.subplots(figsize=(10,7))\n",
        "ax=sports['toss_winner'].value_counts().plot.barh(width=0.8,color=['red', 'green','blue','pink','orange'])\n",
        "plt.title(\"Maximum Toss Won\")"
      ],
      "execution_count": 42,
      "outputs": [
        {
          "output_type": "execute_result",
          "data": {
            "text/plain": [
              "Text(0.5, 1.0, 'Maximum Toss Won')"
            ]
          },
          "metadata": {
            "tags": []
          },
          "execution_count": 42
        },
        {
          "output_type": "display_data",
          "data": {
            "image/png": "[encoded data removed]",
            "text/plain": [
              "<Figure size 720x504 with 1 Axes>"
            ]
          },
          "metadata": {
            "tags": [],
            "needs_background": "light"
          }
        }
      ]
    },
    {
      "cell_type": "code",
      "metadata": {
        "colab": {
          "base_uri": "https://localhost:8080/",
          "height": 319
        },
        "id": "zDHetW5-XEfP",
        "outputId": "df06df5a-8275-4577-b070-cd67470c6982"
      },
      "source": [
        "Tosswin_matchwin=sports[sports['toss_winner']==sports['winner']]\n",
        "slices=[len(Tosswin_matchwin),(len(sports)-len(Tosswin_matchwin))]\n",
        "labels=['Yes','No']\n",
        "plt.pie(slices,labels=labels,startangle=90,shadow=True,explode=(0,0),autopct='%1.1f%%',colors=['y','g'])\n",
        "plt.title(\"Teams who had won Toss and Won the match\")\n",
        "fig = plt.gcf()\n",
        "fig.set_size_inches(5,5)\n",
        "plt.show()\n"
      ],
      "execution_count": 43,
      "outputs": [
        {
          "output_type": "display_data",
          "data": {
            "image/png": "[encoded data removed]",
            "text/plain": [
              "<Figure size 360x360 with 1 Axes>"
            ]
          },
          "metadata": {
            "tags": []
          }
        }
      ]
    },
    {
      "cell_type": "markdown",
      "metadata": {
        "id": "CcaXp1rHXTTK"
      },
      "source": [
        "# Deciding Whether to Bat or Field After Winning the Toss"
      ]
    },
    {
      "cell_type": "code",
      "metadata": {
        "colab": {
          "base_uri": "https://localhost:8080/",
          "height": 294
        },
        "id": "xSwy1sYtXV_S",
        "outputId": "25fe4c44-9f26-483b-a8bf-ca06972d48b2"
      },
      "source": [
        "ts=delivery.toss_decision.value_counts().plot(kind='bar')\n",
        "ts"
      ],
      "execution_count": 44,
      "outputs": [
        {
          "output_type": "execute_result",
          "data": {
            "text/plain": [
              "<matplotlib.axes._subplots.AxesSubplot at 0x7f55459678d0>"
            ]
          },
          "metadata": {
            "tags": []
          },
          "execution_count": 44
        },
        {
          "output_type": "display_data",
          "data": {
            "image/png": "[encoded data removed]",
            "text/plain": [
              "<Figure size 432x288 with 1 Axes>"
            ]
          },
          "metadata": {
            "tags": [],
            "needs_background": "light"
          }
        }
      ]
    },
    {
      "cell_type": "markdown",
      "metadata": {
        "id": "rXjVy078Xafv"
      },
      "source": [
        "# Relation between Winning toss and victory"
      ]
    },
    {
      "cell_type": "code",
      "metadata": {
        "colab": {
          "base_uri": "https://localhost:8080/",
          "height": 367
        },
        "id": "Tg1FdpPZXdmI",
        "outputId": "e21eda84-3c0e-434d-f395-8b395b3ba2ba"
      },
      "source": [
        "delivery['team_toss_win']=np.where((delivery.toss_winner==delivery.winner),1,0)\n",
        "plt.figure(figsize=(10,5))\n",
        "sns.countplot('team_toss_win', data=delivery, hue='toss_decision', palette='YlGn_r')\n",
        "plt.xlabel(\"Winning the Toss vs Winning the Match\")\n",
        "plt.ylabel(\"Frequency\")\n",
        "plt.title(\"Toss Wins vs Victory\")"
      ],
      "execution_count": 45,
      "outputs": [
        {
          "output_type": "execute_result",
          "data": {
            "text/plain": [
              "Text(0.5, 1.0, 'Toss Wins vs Victory')"
            ]
          },
          "metadata": {
            "tags": []
          },
          "execution_count": 45
        },
        {
          "output_type": "display_data",
          "data": {
            "image/png": "[encoded data removed]",
            "text/plain": [
              "<Figure size 720x360 with 1 Axes>"
            ]
          },
          "metadata": {
            "tags": [],
            "needs_background": "light"
          }
        }
      ]
    },
    {
      "cell_type": "markdown",
      "metadata": {
        "id": "m4Z1CzNGXkel"
      },
      "source": [
        "Teams who choose to field after winning the toss have high chances of winning."
      ]
    },
    {
      "cell_type": "markdown",
      "metadata": {
        "id": "53stpRKuXlXP"
      },
      "source": [
        "# Batsmen overview"
      ]
    },
    {
      "cell_type": "code",
      "metadata": {
        "colab": {
          "base_uri": "https://localhost:8080/",
          "height": 390
        },
        "id": "MBmrFCdWXj7a",
        "outputId": "cbbce48f-6418-4456-f770-72ff1e8c6fa3"
      },
      "source": [
        "batsmen = delivery.groupby(\"batsman\").agg({'ball': 'count','batsman_runs': 'sum'})\n",
        "batsmen.rename(columns={'ball':'balls', 'batsman_runs': 'runs'}, inplace=True)\n",
        "batsmen = batsmen.sort_values(['balls','runs'], ascending=False)\n",
        "batsmen['batting_strike_rate'] = batsmen['runs']/batsmen['balls'] * 100\n",
        "batsmen['batting_strike_rate'] = batsmen['batting_strike_rate'].round(2)\n",
        "batsmen.head(10)"
      ],
      "execution_count": 46,
      "outputs": [
        {
          "output_type": "execute_result",
          "data": {
            "text/html": [
              "<div>\n",
              "<style scoped>\n",
              "    .dataframe tbody tr th:only-of-type {\n",
              "        vertical-align: middle;\n",
              "    }\n",
              "\n",
              "    .dataframe tbody tr th {\n",
              "        vertical-align: top;\n",
              "    }\n",
              "\n",
              "    .dataframe thead th {\n",
              "        text-align: right;\n",
              "    }\n",
              "</style>\n",
              "<table border=\"1\" class=\"dataframe\">\n",
              "  <thead>\n",
              "    <tr style=\"text-align: right;\">\n",
              "      <th></th>\n",
              "      <th>balls</th>\n",
              "      <th>runs</th>\n",
              "      <th>batting_strike_rate</th>\n",
              "    </tr>\n",
              "    <tr>\n",
              "      <th>batsman</th>\n",
              "      <th></th>\n",
              "      <th></th>\n",
              "      <th></th>\n",
              "    </tr>\n",
              "  </thead>\n",
              "  <tbody>\n",
              "    <tr>\n",
              "      <th>V Kohli</th>\n",
              "      <td>4211</td>\n",
              "      <td>5434</td>\n",
              "      <td>129.04</td>\n",
              "    </tr>\n",
              "    <tr>\n",
              "      <th>SK Raina</th>\n",
              "      <td>4044</td>\n",
              "      <td>5415</td>\n",
              "      <td>133.90</td>\n",
              "    </tr>\n",
              "    <tr>\n",
              "      <th>RG Sharma</th>\n",
              "      <td>3816</td>\n",
              "      <td>4914</td>\n",
              "      <td>128.77</td>\n",
              "    </tr>\n",
              "    <tr>\n",
              "      <th>S Dhawan</th>\n",
              "      <td>3776</td>\n",
              "      <td>4632</td>\n",
              "      <td>122.67</td>\n",
              "    </tr>\n",
              "    <tr>\n",
              "      <th>G Gambhir</th>\n",
              "      <td>3524</td>\n",
              "      <td>4223</td>\n",
              "      <td>119.84</td>\n",
              "    </tr>\n",
              "    <tr>\n",
              "      <th>RV Uthappa</th>\n",
              "      <td>3492</td>\n",
              "      <td>4446</td>\n",
              "      <td>127.32</td>\n",
              "    </tr>\n",
              "    <tr>\n",
              "      <th>DA Warner</th>\n",
              "      <td>3398</td>\n",
              "      <td>4741</td>\n",
              "      <td>139.52</td>\n",
              "    </tr>\n",
              "    <tr>\n",
              "      <th>MS Dhoni</th>\n",
              "      <td>3318</td>\n",
              "      <td>4477</td>\n",
              "      <td>134.93</td>\n",
              "    </tr>\n",
              "    <tr>\n",
              "      <th>AM Rahane</th>\n",
              "      <td>3215</td>\n",
              "      <td>3850</td>\n",
              "      <td>119.75</td>\n",
              "    </tr>\n",
              "    <tr>\n",
              "      <th>CH Gayle</th>\n",
              "      <td>3131</td>\n",
              "      <td>4560</td>\n",
              "      <td>145.64</td>\n",
              "    </tr>\n",
              "  </tbody>\n",
              "</table>\n",
              "</div>"
            ],
            "text/plain": [
              "            balls  runs  batting_strike_rate\n",
              "batsman                                     \n",
              "V Kohli      4211  5434               129.04\n",
              "SK Raina     4044  5415               133.90\n",
              "RG Sharma    3816  4914               128.77\n",
              "S Dhawan     3776  4632               122.67\n",
              "G Gambhir    3524  4223               119.84\n",
              "RV Uthappa   3492  4446               127.32\n",
              "DA Warner    3398  4741               139.52\n",
              "MS Dhoni     3318  4477               134.93\n",
              "AM Rahane    3215  3850               119.75\n",
              "CH Gayle     3131  4560               145.64"
            ]
          },
          "metadata": {
            "tags": []
          },
          "execution_count": 46
        }
      ]
    },
    {
      "cell_type": "code",
      "metadata": {
        "id": "UbZJp9IGXvqk"
      },
      "source": [
        "#utility function used later\n",
        "def trybuild(lookuplist, buildlist):\n",
        "    alist = []\n",
        "    for i in buildlist.index:\n",
        "        try:\n",
        "            #print(i)\n",
        "            alist.append(lookuplist[i])\n",
        "            #print(alist)\n",
        "        except KeyError:\n",
        "            #print('except')\n",
        "            alist.append(0)\n",
        "    return alist"
      ],
      "execution_count": 47,
      "outputs": []
    },
    {
      "cell_type": "code",
      "metadata": {
        "colab": {
          "base_uri": "https://localhost:8080/",
          "height": 700
        },
        "id": "UtEy6I56XyWi",
        "outputId": "d9f65c3b-6997-475e-b46e-e621b38c5627"
      },
      "source": [
        "TopBatsman = batsmen.sort_values(['balls','runs'], ascending=False)[:20]\n",
        "TopBatsman"
      ],
      "execution_count": 48,
      "outputs": [
        {
          "output_type": "execute_result",
          "data": {
            "text/html": [
              "<div>\n",
              "<style scoped>\n",
              "    .dataframe tbody tr th:only-of-type {\n",
              "        vertical-align: middle;\n",
              "    }\n",
              "\n",
              "    .dataframe tbody tr th {\n",
              "        vertical-align: top;\n",
              "    }\n",
              "\n",
              "    .dataframe thead th {\n",
              "        text-align: right;\n",
              "    }\n",
              "</style>\n",
              "<table border=\"1\" class=\"dataframe\">\n",
              "  <thead>\n",
              "    <tr style=\"text-align: right;\">\n",
              "      <th></th>\n",
              "      <th>balls</th>\n",
              "      <th>runs</th>\n",
              "      <th>batting_strike_rate</th>\n",
              "    </tr>\n",
              "    <tr>\n",
              "      <th>batsman</th>\n",
              "      <th></th>\n",
              "      <th></th>\n",
              "      <th></th>\n",
              "    </tr>\n",
              "  </thead>\n",
              "  <tbody>\n",
              "    <tr>\n",
              "      <th>V Kohli</th>\n",
              "      <td>4211</td>\n",
              "      <td>5434</td>\n",
              "      <td>129.04</td>\n",
              "    </tr>\n",
              "    <tr>\n",
              "      <th>SK Raina</th>\n",
              "      <td>4044</td>\n",
              "      <td>5415</td>\n",
              "      <td>133.90</td>\n",
              "    </tr>\n",
              "    <tr>\n",
              "      <th>RG Sharma</th>\n",
              "      <td>3816</td>\n",
              "      <td>4914</td>\n",
              "      <td>128.77</td>\n",
              "    </tr>\n",
              "    <tr>\n",
              "      <th>S Dhawan</th>\n",
              "      <td>3776</td>\n",
              "      <td>4632</td>\n",
              "      <td>122.67</td>\n",
              "    </tr>\n",
              "    <tr>\n",
              "      <th>G Gambhir</th>\n",
              "      <td>3524</td>\n",
              "      <td>4223</td>\n",
              "      <td>119.84</td>\n",
              "    </tr>\n",
              "    <tr>\n",
              "      <th>RV Uthappa</th>\n",
              "      <td>3492</td>\n",
              "      <td>4446</td>\n",
              "      <td>127.32</td>\n",
              "    </tr>\n",
              "    <tr>\n",
              "      <th>DA Warner</th>\n",
              "      <td>3398</td>\n",
              "      <td>4741</td>\n",
              "      <td>139.52</td>\n",
              "    </tr>\n",
              "    <tr>\n",
              "      <th>MS Dhoni</th>\n",
              "      <td>3318</td>\n",
              "      <td>4477</td>\n",
              "      <td>134.93</td>\n",
              "    </tr>\n",
              "    <tr>\n",
              "      <th>AM Rahane</th>\n",
              "      <td>3215</td>\n",
              "      <td>3850</td>\n",
              "      <td>119.75</td>\n",
              "    </tr>\n",
              "    <tr>\n",
              "      <th>CH Gayle</th>\n",
              "      <td>3131</td>\n",
              "      <td>4560</td>\n",
              "      <td>145.64</td>\n",
              "    </tr>\n",
              "    <tr>\n",
              "      <th>AB de Villiers</th>\n",
              "      <td>2977</td>\n",
              "      <td>4428</td>\n",
              "      <td>148.74</td>\n",
              "    </tr>\n",
              "    <tr>\n",
              "      <th>KD Karthik</th>\n",
              "      <td>2890</td>\n",
              "      <td>3688</td>\n",
              "      <td>127.61</td>\n",
              "    </tr>\n",
              "    <tr>\n",
              "      <th>AT Rayudu</th>\n",
              "      <td>2681</td>\n",
              "      <td>3326</td>\n",
              "      <td>124.06</td>\n",
              "    </tr>\n",
              "    <tr>\n",
              "      <th>SR Watson</th>\n",
              "      <td>2639</td>\n",
              "      <td>3614</td>\n",
              "      <td>136.95</td>\n",
              "    </tr>\n",
              "    <tr>\n",
              "      <th>PA Patel</th>\n",
              "      <td>2444</td>\n",
              "      <td>2874</td>\n",
              "      <td>117.59</td>\n",
              "    </tr>\n",
              "    <tr>\n",
              "      <th>MK Pandey</th>\n",
              "      <td>2425</td>\n",
              "      <td>2872</td>\n",
              "      <td>118.43</td>\n",
              "    </tr>\n",
              "    <tr>\n",
              "      <th>YK Pathan</th>\n",
              "      <td>2334</td>\n",
              "      <td>3241</td>\n",
              "      <td>138.86</td>\n",
              "    </tr>\n",
              "    <tr>\n",
              "      <th>JH Kallis</th>\n",
              "      <td>2291</td>\n",
              "      <td>2427</td>\n",
              "      <td>105.94</td>\n",
              "    </tr>\n",
              "    <tr>\n",
              "      <th>BB McCullum</th>\n",
              "      <td>2272</td>\n",
              "      <td>2893</td>\n",
              "      <td>127.33</td>\n",
              "    </tr>\n",
              "    <tr>\n",
              "      <th>Yuvraj Singh</th>\n",
              "      <td>2207</td>\n",
              "      <td>2765</td>\n",
              "      <td>125.28</td>\n",
              "    </tr>\n",
              "  </tbody>\n",
              "</table>\n",
              "</div>"
            ],
            "text/plain": [
              "                balls  runs  batting_strike_rate\n",
              "batsman                                         \n",
              "V Kohli          4211  5434               129.04\n",
              "SK Raina         4044  5415               133.90\n",
              "RG Sharma        3816  4914               128.77\n",
              "S Dhawan         3776  4632               122.67\n",
              "G Gambhir        3524  4223               119.84\n",
              "RV Uthappa       3492  4446               127.32\n",
              "DA Warner        3398  4741               139.52\n",
              "MS Dhoni         3318  4477               134.93\n",
              "AM Rahane        3215  3850               119.75\n",
              "CH Gayle         3131  4560               145.64\n",
              "AB de Villiers   2977  4428               148.74\n",
              "KD Karthik       2890  3688               127.61\n",
              "AT Rayudu        2681  3326               124.06\n",
              "SR Watson        2639  3614               136.95\n",
              "PA Patel         2444  2874               117.59\n",
              "MK Pandey        2425  2872               118.43\n",
              "YK Pathan        2334  3241               138.86\n",
              "JH Kallis        2291  2427               105.94\n",
              "BB McCullum      2272  2893               127.33\n",
              "Yuvraj Singh     2207  2765               125.28"
            ]
          },
          "metadata": {
            "tags": []
          },
          "execution_count": 48
        }
      ]
    },
    {
      "cell_type": "code",
      "metadata": {
        "colab": {
          "base_uri": "https://localhost:8080/",
          "height": 390
        },
        "id": "8wmI5m1gX2HJ",
        "outputId": "6685dadb-1982-43d3-be40-ea2764261d27"
      },
      "source": [
        "alist = []\n",
        "for r in delivery.batsman_runs.unique():\n",
        "    lookuplist = delivery[delivery.batsman_runs == r].groupby('batsman')['batsman'].count()\n",
        "    batsmen[str(r) + 's'] = trybuild(lookuplist, batsmen)\n",
        "    try:\n",
        "        alist.append(lookuplist[r])\n",
        "    except KeyError:\n",
        "        alist.append(0)\n",
        "TopBatsman = batsmen.sort_values(['balls','runs'], ascending=False)[:20]\n",
        "TopBatsman.head(10)"
      ],
      "execution_count": 49,
      "outputs": [
        {
          "output_type": "execute_result",
          "data": {
            "text/html": [
              "<div>\n",
              "<style scoped>\n",
              "    .dataframe tbody tr th:only-of-type {\n",
              "        vertical-align: middle;\n",
              "    }\n",
              "\n",
              "    .dataframe tbody tr th {\n",
              "        vertical-align: top;\n",
              "    }\n",
              "\n",
              "    .dataframe thead th {\n",
              "        text-align: right;\n",
              "    }\n",
              "</style>\n",
              "<table border=\"1\" class=\"dataframe\">\n",
              "  <thead>\n",
              "    <tr style=\"text-align: right;\">\n",
              "      <th></th>\n",
              "      <th>balls</th>\n",
              "      <th>runs</th>\n",
              "      <th>batting_strike_rate</th>\n",
              "      <th>0s</th>\n",
              "      <th>4s</th>\n",
              "      <th>1s</th>\n",
              "      <th>6s</th>\n",
              "      <th>3s</th>\n",
              "      <th>2s</th>\n",
              "      <th>5s</th>\n",
              "      <th>7s</th>\n",
              "    </tr>\n",
              "    <tr>\n",
              "      <th>batsman</th>\n",
              "      <th></th>\n",
              "      <th></th>\n",
              "      <th></th>\n",
              "      <th></th>\n",
              "      <th></th>\n",
              "      <th></th>\n",
              "      <th></th>\n",
              "      <th></th>\n",
              "      <th></th>\n",
              "      <th></th>\n",
              "      <th></th>\n",
              "    </tr>\n",
              "  </thead>\n",
              "  <tbody>\n",
              "    <tr>\n",
              "      <th>V Kohli</th>\n",
              "      <td>4211</td>\n",
              "      <td>5434</td>\n",
              "      <td>129.04</td>\n",
              "      <td>1493</td>\n",
              "      <td>482</td>\n",
              "      <td>1741</td>\n",
              "      <td>191</td>\n",
              "      <td>11</td>\n",
              "      <td>293</td>\n",
              "      <td>0</td>\n",
              "      <td>0</td>\n",
              "    </tr>\n",
              "    <tr>\n",
              "      <th>SK Raina</th>\n",
              "      <td>4044</td>\n",
              "      <td>5415</td>\n",
              "      <td>133.90</td>\n",
              "      <td>1381</td>\n",
              "      <td>495</td>\n",
              "      <td>1695</td>\n",
              "      <td>195</td>\n",
              "      <td>11</td>\n",
              "      <td>266</td>\n",
              "      <td>1</td>\n",
              "      <td>0</td>\n",
              "    </tr>\n",
              "    <tr>\n",
              "      <th>RG Sharma</th>\n",
              "      <td>3816</td>\n",
              "      <td>4914</td>\n",
              "      <td>128.77</td>\n",
              "      <td>1390</td>\n",
              "      <td>431</td>\n",
              "      <td>1589</td>\n",
              "      <td>194</td>\n",
              "      <td>5</td>\n",
              "      <td>205</td>\n",
              "      <td>1</td>\n",
              "      <td>1</td>\n",
              "    </tr>\n",
              "    <tr>\n",
              "      <th>S Dhawan</th>\n",
              "      <td>3776</td>\n",
              "      <td>4632</td>\n",
              "      <td>122.67</td>\n",
              "      <td>1455</td>\n",
              "      <td>526</td>\n",
              "      <td>1473</td>\n",
              "      <td>96</td>\n",
              "      <td>18</td>\n",
              "      <td>205</td>\n",
              "      <td>3</td>\n",
              "      <td>0</td>\n",
              "    </tr>\n",
              "    <tr>\n",
              "      <th>G Gambhir</th>\n",
              "      <td>3524</td>\n",
              "      <td>4223</td>\n",
              "      <td>119.84</td>\n",
              "      <td>1351</td>\n",
              "      <td>492</td>\n",
              "      <td>1358</td>\n",
              "      <td>59</td>\n",
              "      <td>15</td>\n",
              "      <td>249</td>\n",
              "      <td>0</td>\n",
              "      <td>0</td>\n",
              "    </tr>\n",
              "    <tr>\n",
              "      <th>RV Uthappa</th>\n",
              "      <td>3492</td>\n",
              "      <td>4446</td>\n",
              "      <td>127.32</td>\n",
              "      <td>1382</td>\n",
              "      <td>436</td>\n",
              "      <td>1295</td>\n",
              "      <td>156</td>\n",
              "      <td>13</td>\n",
              "      <td>206</td>\n",
              "      <td>4</td>\n",
              "      <td>0</td>\n",
              "    </tr>\n",
              "    <tr>\n",
              "      <th>DA Warner</th>\n",
              "      <td>3398</td>\n",
              "      <td>4741</td>\n",
              "      <td>139.52</td>\n",
              "      <td>1254</td>\n",
              "      <td>459</td>\n",
              "      <td>1213</td>\n",
              "      <td>181</td>\n",
              "      <td>18</td>\n",
              "      <td>271</td>\n",
              "      <td>2</td>\n",
              "      <td>0</td>\n",
              "    </tr>\n",
              "    <tr>\n",
              "      <th>MS Dhoni</th>\n",
              "      <td>3318</td>\n",
              "      <td>4477</td>\n",
              "      <td>134.93</td>\n",
              "      <td>1111</td>\n",
              "      <td>297</td>\n",
              "      <td>1383</td>\n",
              "      <td>207</td>\n",
              "      <td>14</td>\n",
              "      <td>304</td>\n",
              "      <td>0</td>\n",
              "      <td>2</td>\n",
              "    </tr>\n",
              "    <tr>\n",
              "      <th>AM Rahane</th>\n",
              "      <td>3215</td>\n",
              "      <td>3850</td>\n",
              "      <td>119.75</td>\n",
              "      <td>1198</td>\n",
              "      <td>405</td>\n",
              "      <td>1308</td>\n",
              "      <td>74</td>\n",
              "      <td>15</td>\n",
              "      <td>214</td>\n",
              "      <td>1</td>\n",
              "      <td>0</td>\n",
              "    </tr>\n",
              "    <tr>\n",
              "      <th>CH Gayle</th>\n",
              "      <td>3131</td>\n",
              "      <td>4560</td>\n",
              "      <td>145.64</td>\n",
              "      <td>1423</td>\n",
              "      <td>376</td>\n",
              "      <td>919</td>\n",
              "      <td>327</td>\n",
              "      <td>3</td>\n",
              "      <td>83</td>\n",
              "      <td>0</td>\n",
              "      <td>0</td>\n",
              "    </tr>\n",
              "  </tbody>\n",
              "</table>\n",
              "</div>"
            ],
            "text/plain": [
              "            balls  runs  batting_strike_rate    0s   4s  ...   6s  3s   2s  5s  7s\n",
              "batsman                                                  ...                      \n",
              "V Kohli      4211  5434               129.04  1493  482  ...  191  11  293   0   0\n",
              "SK Raina     4044  5415               133.90  1381  495  ...  195  11  266   1   0\n",
              "RG Sharma    3816  4914               128.77  1390  431  ...  194   5  205   1   1\n",
              "S Dhawan     3776  4632               122.67  1455  526  ...   96  18  205   3   0\n",
              "G Gambhir    3524  4223               119.84  1351  492  ...   59  15  249   0   0\n",
              "RV Uthappa   3492  4446               127.32  1382  436  ...  156  13  206   4   0\n",
              "DA Warner    3398  4741               139.52  1254  459  ...  181  18  271   2   0\n",
              "MS Dhoni     3318  4477               134.93  1111  297  ...  207  14  304   0   2\n",
              "AM Rahane    3215  3850               119.75  1198  405  ...   74  15  214   1   0\n",
              "CH Gayle     3131  4560               145.64  1423  376  ...  327   3   83   0   0\n",
              "\n",
              "[10 rows x 11 columns]"
            ]
          },
          "metadata": {
            "tags": []
          },
          "execution_count": 49
        }
      ]
    },
    {
      "cell_type": "code",
      "metadata": {
        "id": "XJh74iKNX2Ji"
      },
      "source": [
        "#Build a dictionary of Matches player by each batsman\n",
        "played = {}\n",
        "def BuildPlayedDict(x):\n",
        "    #print(x.shape, x.shape[0], x.shape[1])\n",
        "    for p in x.batsman.unique():\n",
        "        if p in played:\n",
        "            played[p] += 1\n",
        "        else:\n",
        "            played[p] = 1\n",
        "\n",
        "delivery.groupby('match_id').apply(BuildPlayedDict)\n",
        "import operator"
      ],
      "execution_count": 50,
      "outputs": []
    },
    {
      "cell_type": "code",
      "metadata": {
        "colab": {
          "base_uri": "https://localhost:8080/",
          "height": 700
        },
        "id": "HAP7B-c4X7lp",
        "outputId": "b47334bf-52c1-4068-d812-dfbc3a85e483"
      },
      "source": [
        "TopBatsman['matches_played'] = [played[p] for p in TopBatsman.index]\n",
        "TopBatsman['average']= TopBatsman['runs']/TopBatsman['matches_played']\n",
        "\n",
        "TopBatsman['6s/match'] = TopBatsman['6s']/TopBatsman['matches_played']  \n",
        "TopBatsman['6s/match'].median()\n",
        "\n",
        "TopBatsman['4s/match'] = TopBatsman['4s']/TopBatsman['matches_played']  \n",
        "TopBatsman['4s/match']\n",
        "TopBatsman"
      ],
      "execution_count": 51,
      "outputs": [
        {
          "output_type": "execute_result",
          "data": {
            "text/html": [
              "<div>\n",
              "<style scoped>\n",
              "    .dataframe tbody tr th:only-of-type {\n",
              "        vertical-align: middle;\n",
              "    }\n",
              "\n",
              "    .dataframe tbody tr th {\n",
              "        vertical-align: top;\n",
              "    }\n",
              "\n",
              "    .dataframe thead th {\n",
              "        text-align: right;\n",
              "    }\n",
              "</style>\n",
              "<table border=\"1\" class=\"dataframe\">\n",
              "  <thead>\n",
              "    <tr style=\"text-align: right;\">\n",
              "      <th></th>\n",
              "      <th>balls</th>\n",
              "      <th>runs</th>\n",
              "      <th>batting_strike_rate</th>\n",
              "      <th>0s</th>\n",
              "      <th>4s</th>\n",
              "      <th>1s</th>\n",
              "      <th>6s</th>\n",
              "      <th>3s</th>\n",
              "      <th>2s</th>\n",
              "      <th>5s</th>\n",
              "      <th>7s</th>\n",
              "      <th>matches_played</th>\n",
              "      <th>average</th>\n",
              "      <th>6s/match</th>\n",
              "      <th>4s/match</th>\n",
              "    </tr>\n",
              "    <tr>\n",
              "      <th>batsman</th>\n",
              "      <th></th>\n",
              "      <th></th>\n",
              "      <th></th>\n",
              "      <th></th>\n",
              "      <th></th>\n",
              "      <th></th>\n",
              "      <th></th>\n",
              "      <th></th>\n",
              "      <th></th>\n",
              "      <th></th>\n",
              "      <th></th>\n",
              "      <th></th>\n",
              "      <th></th>\n",
              "      <th></th>\n",
              "      <th></th>\n",
              "    </tr>\n",
              "  </thead>\n",
              "  <tbody>\n",
              "    <tr>\n",
              "      <th>V Kohli</th>\n",
              "      <td>4211</td>\n",
              "      <td>5434</td>\n",
              "      <td>129.04</td>\n",
              "      <td>1493</td>\n",
              "      <td>482</td>\n",
              "      <td>1741</td>\n",
              "      <td>191</td>\n",
              "      <td>11</td>\n",
              "      <td>293</td>\n",
              "      <td>0</td>\n",
              "      <td>0</td>\n",
              "      <td>169</td>\n",
              "      <td>32.153846</td>\n",
              "      <td>1.130178</td>\n",
              "      <td>2.852071</td>\n",
              "    </tr>\n",
              "    <tr>\n",
              "      <th>SK Raina</th>\n",
              "      <td>4044</td>\n",
              "      <td>5415</td>\n",
              "      <td>133.90</td>\n",
              "      <td>1381</td>\n",
              "      <td>495</td>\n",
              "      <td>1695</td>\n",
              "      <td>195</td>\n",
              "      <td>11</td>\n",
              "      <td>266</td>\n",
              "      <td>1</td>\n",
              "      <td>0</td>\n",
              "      <td>189</td>\n",
              "      <td>28.650794</td>\n",
              "      <td>1.031746</td>\n",
              "      <td>2.619048</td>\n",
              "    </tr>\n",
              "    <tr>\n",
              "      <th>RG Sharma</th>\n",
              "      <td>3816</td>\n",
              "      <td>4914</td>\n",
              "      <td>128.77</td>\n",
              "      <td>1390</td>\n",
              "      <td>431</td>\n",
              "      <td>1589</td>\n",
              "      <td>194</td>\n",
              "      <td>5</td>\n",
              "      <td>205</td>\n",
              "      <td>1</td>\n",
              "      <td>1</td>\n",
              "      <td>182</td>\n",
              "      <td>27.000000</td>\n",
              "      <td>1.065934</td>\n",
              "      <td>2.368132</td>\n",
              "    </tr>\n",
              "    <tr>\n",
              "      <th>S Dhawan</th>\n",
              "      <td>3776</td>\n",
              "      <td>4632</td>\n",
              "      <td>122.67</td>\n",
              "      <td>1455</td>\n",
              "      <td>526</td>\n",
              "      <td>1473</td>\n",
              "      <td>96</td>\n",
              "      <td>18</td>\n",
              "      <td>205</td>\n",
              "      <td>3</td>\n",
              "      <td>0</td>\n",
              "      <td>158</td>\n",
              "      <td>29.316456</td>\n",
              "      <td>0.607595</td>\n",
              "      <td>3.329114</td>\n",
              "    </tr>\n",
              "    <tr>\n",
              "      <th>G Gambhir</th>\n",
              "      <td>3524</td>\n",
              "      <td>4223</td>\n",
              "      <td>119.84</td>\n",
              "      <td>1351</td>\n",
              "      <td>492</td>\n",
              "      <td>1358</td>\n",
              "      <td>59</td>\n",
              "      <td>15</td>\n",
              "      <td>249</td>\n",
              "      <td>0</td>\n",
              "      <td>0</td>\n",
              "      <td>151</td>\n",
              "      <td>27.966887</td>\n",
              "      <td>0.390728</td>\n",
              "      <td>3.258278</td>\n",
              "    </tr>\n",
              "    <tr>\n",
              "      <th>RV Uthappa</th>\n",
              "      <td>3492</td>\n",
              "      <td>4446</td>\n",
              "      <td>127.32</td>\n",
              "      <td>1382</td>\n",
              "      <td>436</td>\n",
              "      <td>1295</td>\n",
              "      <td>156</td>\n",
              "      <td>13</td>\n",
              "      <td>206</td>\n",
              "      <td>4</td>\n",
              "      <td>0</td>\n",
              "      <td>170</td>\n",
              "      <td>26.152941</td>\n",
              "      <td>0.917647</td>\n",
              "      <td>2.564706</td>\n",
              "    </tr>\n",
              "    <tr>\n",
              "      <th>DA Warner</th>\n",
              "      <td>3398</td>\n",
              "      <td>4741</td>\n",
              "      <td>139.52</td>\n",
              "      <td>1254</td>\n",
              "      <td>459</td>\n",
              "      <td>1213</td>\n",
              "      <td>181</td>\n",
              "      <td>18</td>\n",
              "      <td>271</td>\n",
              "      <td>2</td>\n",
              "      <td>0</td>\n",
              "      <td>126</td>\n",
              "      <td>37.626984</td>\n",
              "      <td>1.436508</td>\n",
              "      <td>3.642857</td>\n",
              "    </tr>\n",
              "    <tr>\n",
              "      <th>MS Dhoni</th>\n",
              "      <td>3318</td>\n",
              "      <td>4477</td>\n",
              "      <td>134.93</td>\n",
              "      <td>1111</td>\n",
              "      <td>297</td>\n",
              "      <td>1383</td>\n",
              "      <td>207</td>\n",
              "      <td>14</td>\n",
              "      <td>304</td>\n",
              "      <td>0</td>\n",
              "      <td>2</td>\n",
              "      <td>170</td>\n",
              "      <td>26.335294</td>\n",
              "      <td>1.217647</td>\n",
              "      <td>1.747059</td>\n",
              "    </tr>\n",
              "    <tr>\n",
              "      <th>AM Rahane</th>\n",
              "      <td>3215</td>\n",
              "      <td>3850</td>\n",
              "      <td>119.75</td>\n",
              "      <td>1198</td>\n",
              "      <td>405</td>\n",
              "      <td>1308</td>\n",
              "      <td>74</td>\n",
              "      <td>15</td>\n",
              "      <td>214</td>\n",
              "      <td>1</td>\n",
              "      <td>0</td>\n",
              "      <td>132</td>\n",
              "      <td>29.166667</td>\n",
              "      <td>0.560606</td>\n",
              "      <td>3.068182</td>\n",
              "    </tr>\n",
              "    <tr>\n",
              "      <th>CH Gayle</th>\n",
              "      <td>3131</td>\n",
              "      <td>4560</td>\n",
              "      <td>145.64</td>\n",
              "      <td>1423</td>\n",
              "      <td>376</td>\n",
              "      <td>919</td>\n",
              "      <td>327</td>\n",
              "      <td>3</td>\n",
              "      <td>83</td>\n",
              "      <td>0</td>\n",
              "      <td>0</td>\n",
              "      <td>124</td>\n",
              "      <td>36.774194</td>\n",
              "      <td>2.637097</td>\n",
              "      <td>3.032258</td>\n",
              "    </tr>\n",
              "    <tr>\n",
              "      <th>AB de Villiers</th>\n",
              "      <td>2977</td>\n",
              "      <td>4428</td>\n",
              "      <td>148.74</td>\n",
              "      <td>940</td>\n",
              "      <td>357</td>\n",
              "      <td>1231</td>\n",
              "      <td>214</td>\n",
              "      <td>15</td>\n",
              "      <td>220</td>\n",
              "      <td>0</td>\n",
              "      <td>0</td>\n",
              "      <td>142</td>\n",
              "      <td>31.183099</td>\n",
              "      <td>1.507042</td>\n",
              "      <td>2.514085</td>\n",
              "    </tr>\n",
              "    <tr>\n",
              "      <th>KD Karthik</th>\n",
              "      <td>2890</td>\n",
              "      <td>3688</td>\n",
              "      <td>127.61</td>\n",
              "      <td>1013</td>\n",
              "      <td>358</td>\n",
              "      <td>1201</td>\n",
              "      <td>101</td>\n",
              "      <td>6</td>\n",
              "      <td>208</td>\n",
              "      <td>3</td>\n",
              "      <td>0</td>\n",
              "      <td>162</td>\n",
              "      <td>22.765432</td>\n",
              "      <td>0.623457</td>\n",
              "      <td>2.209877</td>\n",
              "    </tr>\n",
              "    <tr>\n",
              "      <th>AT Rayudu</th>\n",
              "      <td>2681</td>\n",
              "      <td>3326</td>\n",
              "      <td>124.06</td>\n",
              "      <td>947</td>\n",
              "      <td>278</td>\n",
              "      <td>1179</td>\n",
              "      <td>120</td>\n",
              "      <td>1</td>\n",
              "      <td>156</td>\n",
              "      <td>0</td>\n",
              "      <td>0</td>\n",
              "      <td>138</td>\n",
              "      <td>24.101449</td>\n",
              "      <td>0.869565</td>\n",
              "      <td>2.014493</td>\n",
              "    </tr>\n",
              "    <tr>\n",
              "      <th>SR Watson</th>\n",
              "      <td>2639</td>\n",
              "      <td>3614</td>\n",
              "      <td>136.95</td>\n",
              "      <td>1100</td>\n",
              "      <td>344</td>\n",
              "      <td>875</td>\n",
              "      <td>177</td>\n",
              "      <td>9</td>\n",
              "      <td>132</td>\n",
              "      <td>2</td>\n",
              "      <td>0</td>\n",
              "      <td>130</td>\n",
              "      <td>27.800000</td>\n",
              "      <td>1.361538</td>\n",
              "      <td>2.646154</td>\n",
              "    </tr>\n",
              "    <tr>\n",
              "      <th>PA Patel</th>\n",
              "      <td>2444</td>\n",
              "      <td>2874</td>\n",
              "      <td>117.59</td>\n",
              "      <td>1061</td>\n",
              "      <td>366</td>\n",
              "      <td>831</td>\n",
              "      <td>49</td>\n",
              "      <td>8</td>\n",
              "      <td>128</td>\n",
              "      <td>1</td>\n",
              "      <td>0</td>\n",
              "      <td>136</td>\n",
              "      <td>21.132353</td>\n",
              "      <td>0.360294</td>\n",
              "      <td>2.691176</td>\n",
              "    </tr>\n",
              "    <tr>\n",
              "      <th>MK Pandey</th>\n",
              "      <td>2425</td>\n",
              "      <td>2872</td>\n",
              "      <td>118.43</td>\n",
              "      <td>889</td>\n",
              "      <td>253</td>\n",
              "      <td>1024</td>\n",
              "      <td>76</td>\n",
              "      <td>8</td>\n",
              "      <td>173</td>\n",
              "      <td>2</td>\n",
              "      <td>0</td>\n",
              "      <td>119</td>\n",
              "      <td>24.134454</td>\n",
              "      <td>0.638655</td>\n",
              "      <td>2.126050</td>\n",
              "    </tr>\n",
              "    <tr>\n",
              "      <th>YK Pathan</th>\n",
              "      <td>2334</td>\n",
              "      <td>3241</td>\n",
              "      <td>138.86</td>\n",
              "      <td>856</td>\n",
              "      <td>264</td>\n",
              "      <td>892</td>\n",
              "      <td>161</td>\n",
              "      <td>5</td>\n",
              "      <td>156</td>\n",
              "      <td>0</td>\n",
              "      <td>0</td>\n",
              "      <td>153</td>\n",
              "      <td>21.183007</td>\n",
              "      <td>1.052288</td>\n",
              "      <td>1.725490</td>\n",
              "    </tr>\n",
              "    <tr>\n",
              "      <th>JH Kallis</th>\n",
              "      <td>2291</td>\n",
              "      <td>2427</td>\n",
              "      <td>105.94</td>\n",
              "      <td>982</td>\n",
              "      <td>255</td>\n",
              "      <td>888</td>\n",
              "      <td>44</td>\n",
              "      <td>8</td>\n",
              "      <td>113</td>\n",
              "      <td>1</td>\n",
              "      <td>0</td>\n",
              "      <td>95</td>\n",
              "      <td>25.547368</td>\n",
              "      <td>0.463158</td>\n",
              "      <td>2.684211</td>\n",
              "    </tr>\n",
              "    <tr>\n",
              "      <th>BB McCullum</th>\n",
              "      <td>2272</td>\n",
              "      <td>2893</td>\n",
              "      <td>127.33</td>\n",
              "      <td>1022</td>\n",
              "      <td>293</td>\n",
              "      <td>720</td>\n",
              "      <td>129</td>\n",
              "      <td>3</td>\n",
              "      <td>103</td>\n",
              "      <td>1</td>\n",
              "      <td>1</td>\n",
              "      <td>109</td>\n",
              "      <td>26.541284</td>\n",
              "      <td>1.183486</td>\n",
              "      <td>2.688073</td>\n",
              "    </tr>\n",
              "    <tr>\n",
              "      <th>Yuvraj Singh</th>\n",
              "      <td>2207</td>\n",
              "      <td>2765</td>\n",
              "      <td>125.28</td>\n",
              "      <td>967</td>\n",
              "      <td>218</td>\n",
              "      <td>750</td>\n",
              "      <td>149</td>\n",
              "      <td>3</td>\n",
              "      <td>120</td>\n",
              "      <td>0</td>\n",
              "      <td>0</td>\n",
              "      <td>126</td>\n",
              "      <td>21.944444</td>\n",
              "      <td>1.182540</td>\n",
              "      <td>1.730159</td>\n",
              "    </tr>\n",
              "  </tbody>\n",
              "</table>\n",
              "</div>"
            ],
            "text/plain": [
              "                balls  runs  batting_strike_rate  ...    average  6s/match  4s/match\n",
              "batsman                                           ...                               \n",
              "V Kohli          4211  5434               129.04  ...  32.153846  1.130178  2.852071\n",
              "SK Raina         4044  5415               133.90  ...  28.650794  1.031746  2.619048\n",
              "RG Sharma        3816  4914               128.77  ...  27.000000  1.065934  2.368132\n",
              "S Dhawan         3776  4632               122.67  ...  29.316456  0.607595  3.329114\n",
              "G Gambhir        3524  4223               119.84  ...  27.966887  0.390728  3.258278\n",
              "RV Uthappa       3492  4446               127.32  ...  26.152941  0.917647  2.564706\n",
              "DA Warner        3398  4741               139.52  ...  37.626984  1.436508  3.642857\n",
              "MS Dhoni         3318  4477               134.93  ...  26.335294  1.217647  1.747059\n",
              "AM Rahane        3215  3850               119.75  ...  29.166667  0.560606  3.068182\n",
              "CH Gayle         3131  4560               145.64  ...  36.774194  2.637097  3.032258\n",
              "AB de Villiers   2977  4428               148.74  ...  31.183099  1.507042  2.514085\n",
              "KD Karthik       2890  3688               127.61  ...  22.765432  0.623457  2.209877\n",
              "AT Rayudu        2681  3326               124.06  ...  24.101449  0.869565  2.014493\n",
              "SR Watson        2639  3614               136.95  ...  27.800000  1.361538  2.646154\n",
              "PA Patel         2444  2874               117.59  ...  21.132353  0.360294  2.691176\n",
              "MK Pandey        2425  2872               118.43  ...  24.134454  0.638655  2.126050\n",
              "YK Pathan        2334  3241               138.86  ...  21.183007  1.052288  1.725490\n",
              "JH Kallis        2291  2427               105.94  ...  25.547368  0.463158  2.684211\n",
              "BB McCullum      2272  2893               127.33  ...  26.541284  1.183486  2.688073\n",
              "Yuvraj Singh     2207  2765               125.28  ...  21.944444  1.182540  1.730159\n",
              "\n",
              "[20 rows x 15 columns]"
            ]
          },
          "metadata": {
            "tags": []
          },
          "execution_count": 51
        }
      ]
    },
    {
      "cell_type": "markdown",
      "metadata": {
        "id": "8px9GoFjYCz2"
      },
      "source": [
        "Total runs by each batsmen"
      ]
    },
    {
      "cell_type": "code",
      "metadata": {
        "colab": {
          "base_uri": "https://localhost:8080/",
          "height": 569
        },
        "id": "yVKXoJ2kX7sV",
        "outputId": "7de03722-a4ef-48fd-d2b5-5960176c1902"
      },
      "source": [
        "plt.figure(figsize=(10,8))\n",
        "plt.bar(np.arange(len(TopBatsman)),TopBatsman['runs'],color='g')\n",
        "plt.xticks(ticks=np.arange(len(TopBatsman)),labels=TopBatsman.index,rotation=90)\n",
        "plt.xlabel('Batsmen')\n",
        "plt.ylabel('Runs')\n",
        "plt.title('Total Runs')\n",
        "plt.show()\n"
      ],
      "execution_count": 52,
      "outputs": [
        {
          "output_type": "display_data",
          "data": {
            "image/png": "[encoded data removed]",
            "text/plain": [
              "<Figure size 720x576 with 1 Axes>"
            ]
          },
          "metadata": {
            "tags": [],
            "needs_background": "light"
          }
        }
      ]
    },
    {
      "cell_type": "markdown",
      "metadata": {
        "id": "KFNpl7hWYJa-"
      },
      "source": [
        "Each batsmen strike rate"
      ]
    },
    {
      "cell_type": "code",
      "metadata": {
        "colab": {
          "base_uri": "https://localhost:8080/",
          "height": 569
        },
        "id": "AarTBR3FYJIO",
        "outputId": "4ebc1393-f915-41c8-c2ab-f47bf5e2ef95"
      },
      "source": [
        "plt.figure(figsize=(10,8))\n",
        "plt.bar(np.arange(len(TopBatsman)),TopBatsman['batting_strike_rate'])\n",
        "plt.xticks(ticks=np.arange(len(TopBatsman)),labels=TopBatsman.index,rotation=90)\n",
        "plt.xlabel('Batsmen')\n",
        "plt.ylabel('Strike Rate')\n",
        "plt.title('Batsmen Strike Rate')\n",
        "plt.show()"
      ],
      "execution_count": 53,
      "outputs": [
        {
          "output_type": "display_data",
          "data": {
            "image/png": "[encoded data removed]",
            "text/plain": [
              "<Figure size 720x576 with 1 Axes>"
            ]
          },
          "metadata": {
            "tags": [],
            "needs_background": "light"
          }
        }
      ]
    },
    {
      "cell_type": "markdown",
      "metadata": {
        "id": "vdsi1qViYQOF"
      },
      "source": [
        "Top 5 Batsmen"
      ]
    },
    {
      "cell_type": "code",
      "metadata": {
        "colab": {
          "base_uri": "https://localhost:8080/",
          "height": 359
        },
        "id": "WF6A38LKYQah",
        "outputId": "059f2e80-94db-4edd-944c-260326154d62"
      },
      "source": [
        "delivery.groupby('batsman')['batsman_runs'].agg(\"sum\").sort_values(ascending= False).head().plot(kind='bar', color='Green')\n",
        "plt.title(\"Top 5 Batsmen\")"
      ],
      "execution_count": 55,
      "outputs": [
        {
          "output_type": "execute_result",
          "data": {
            "text/plain": [
              "Text(0.5, 1.0, 'Top 5 Batsmen')"
            ]
          },
          "metadata": {
            "tags": []
          },
          "execution_count": 55
        },
        {
          "output_type": "display_data",
          "data": {
            "image/png": "[encoded data removed]",
            "text/plain": [
              "<Figure size 432x288 with 1 Axes>"
            ]
          },
          "metadata": {
            "tags": [],
            "needs_background": "light"
          }
        }
      ]
    },
    {
      "cell_type": "markdown",
      "metadata": {
        "id": "rrPY1RWTYfqm"
      },
      "source": [
        "Virat Kohli and S.K Raina Scored the most runs, so probability is that in whichever team they are that team has high chances of winning by runs.\n",
        "It is an important factor for a batsman in an T20 league to maintain a good strike rate. AB de Villiers and CH Gayle have almost equal strike rates."
      ]
    },
    {
      "cell_type": "markdown",
      "metadata": {
        "id": "5mkpKn0GYhsx"
      },
      "source": [
        "Bowler information"
      ]
    },
    {
      "cell_type": "code",
      "metadata": {
        "colab": {
          "base_uri": "https://localhost:8080/",
          "height": 700
        },
        "id": "bJU0Hr9oYQcV",
        "outputId": "f71c97d4-ebb6-434d-d72a-ddfcbe1fe237"
      },
      "source": [
        "bowler_wickets = delivery.groupby('bowler').aggregate({'ball': 'count', 'total_runs': 'sum', 'player_dismissed' : 'count'})\n",
        "bowler_wickets.columns = ['runs','balls','wickets']\n",
        "TopBowlers = bowler_wickets.sort_values(['wickets'], ascending=False)[:20]\n",
        "TopBowlers"
      ],
      "execution_count": 56,
      "outputs": [
        {
          "output_type": "execute_result",
          "data": {
            "text/html": [
              "<div>\n",
              "<style scoped>\n",
              "    .dataframe tbody tr th:only-of-type {\n",
              "        vertical-align: middle;\n",
              "    }\n",
              "\n",
              "    .dataframe tbody tr th {\n",
              "        vertical-align: top;\n",
              "    }\n",
              "\n",
              "    .dataframe thead th {\n",
              "        text-align: right;\n",
              "    }\n",
              "</style>\n",
              "<table border=\"1\" class=\"dataframe\">\n",
              "  <thead>\n",
              "    <tr style=\"text-align: right;\">\n",
              "      <th></th>\n",
              "      <th>runs</th>\n",
              "      <th>balls</th>\n",
              "      <th>wickets</th>\n",
              "    </tr>\n",
              "    <tr>\n",
              "      <th>bowler</th>\n",
              "      <th></th>\n",
              "      <th></th>\n",
              "      <th></th>\n",
              "    </tr>\n",
              "  </thead>\n",
              "  <tbody>\n",
              "    <tr>\n",
              "      <th>Harbhajan Singh</th>\n",
              "      <td>3451</td>\n",
              "      <td>4050</td>\n",
              "      <td>3451</td>\n",
              "    </tr>\n",
              "    <tr>\n",
              "      <th>A Mishra</th>\n",
              "      <td>3172</td>\n",
              "      <td>3850</td>\n",
              "      <td>3172</td>\n",
              "    </tr>\n",
              "    <tr>\n",
              "      <th>PP Chawla</th>\n",
              "      <td>3157</td>\n",
              "      <td>4153</td>\n",
              "      <td>3157</td>\n",
              "    </tr>\n",
              "    <tr>\n",
              "      <th>R Ashwin</th>\n",
              "      <td>3016</td>\n",
              "      <td>3391</td>\n",
              "      <td>3016</td>\n",
              "    </tr>\n",
              "    <tr>\n",
              "      <th>SL Malinga</th>\n",
              "      <td>2974</td>\n",
              "      <td>3511</td>\n",
              "      <td>2974</td>\n",
              "    </tr>\n",
              "    <tr>\n",
              "      <th>DJ Bravo</th>\n",
              "      <td>2711</td>\n",
              "      <td>3733</td>\n",
              "      <td>2711</td>\n",
              "    </tr>\n",
              "    <tr>\n",
              "      <th>B Kumar</th>\n",
              "      <td>2707</td>\n",
              "      <td>3264</td>\n",
              "      <td>2707</td>\n",
              "    </tr>\n",
              "    <tr>\n",
              "      <th>P Kumar</th>\n",
              "      <td>2637</td>\n",
              "      <td>3342</td>\n",
              "      <td>2637</td>\n",
              "    </tr>\n",
              "    <tr>\n",
              "      <th>UT Yadav</th>\n",
              "      <td>2605</td>\n",
              "      <td>3640</td>\n",
              "      <td>2605</td>\n",
              "    </tr>\n",
              "    <tr>\n",
              "      <th>SP Narine</th>\n",
              "      <td>2600</td>\n",
              "      <td>2939</td>\n",
              "      <td>2600</td>\n",
              "    </tr>\n",
              "    <tr>\n",
              "      <th>RA Jadeja</th>\n",
              "      <td>2541</td>\n",
              "      <td>3221</td>\n",
              "      <td>2541</td>\n",
              "    </tr>\n",
              "    <tr>\n",
              "      <th>Z Khan</th>\n",
              "      <td>2276</td>\n",
              "      <td>2860</td>\n",
              "      <td>2276</td>\n",
              "    </tr>\n",
              "    <tr>\n",
              "      <th>DW Steyn</th>\n",
              "      <td>2207</td>\n",
              "      <td>2454</td>\n",
              "      <td>2207</td>\n",
              "    </tr>\n",
              "    <tr>\n",
              "      <th>R Vinay Kumar</th>\n",
              "      <td>2186</td>\n",
              "      <td>3043</td>\n",
              "      <td>2186</td>\n",
              "    </tr>\n",
              "    <tr>\n",
              "      <th>SR Watson</th>\n",
              "      <td>2137</td>\n",
              "      <td>2751</td>\n",
              "      <td>2137</td>\n",
              "    </tr>\n",
              "    <tr>\n",
              "      <th>IK Pathan</th>\n",
              "      <td>2113</td>\n",
              "      <td>2711</td>\n",
              "      <td>2113</td>\n",
              "    </tr>\n",
              "    <tr>\n",
              "      <th>I Sharma</th>\n",
              "      <td>1999</td>\n",
              "      <td>2682</td>\n",
              "      <td>1999</td>\n",
              "    </tr>\n",
              "    <tr>\n",
              "      <th>A Nehra</th>\n",
              "      <td>1974</td>\n",
              "      <td>2537</td>\n",
              "      <td>1974</td>\n",
              "    </tr>\n",
              "    <tr>\n",
              "      <th>PP Ojha</th>\n",
              "      <td>1945</td>\n",
              "      <td>2399</td>\n",
              "      <td>1945</td>\n",
              "    </tr>\n",
              "    <tr>\n",
              "      <th>RP Singh</th>\n",
              "      <td>1874</td>\n",
              "      <td>2417</td>\n",
              "      <td>1874</td>\n",
              "    </tr>\n",
              "  </tbody>\n",
              "</table>\n",
              "</div>"
            ],
            "text/plain": [
              "                 runs  balls  wickets\n",
              "bowler                               \n",
              "Harbhajan Singh  3451   4050     3451\n",
              "A Mishra         3172   3850     3172\n",
              "PP Chawla        3157   4153     3157\n",
              "R Ashwin         3016   3391     3016\n",
              "SL Malinga       2974   3511     2974\n",
              "DJ Bravo         2711   3733     2711\n",
              "B Kumar          2707   3264     2707\n",
              "P Kumar          2637   3342     2637\n",
              "UT Yadav         2605   3640     2605\n",
              "SP Narine        2600   2939     2600\n",
              "RA Jadeja        2541   3221     2541\n",
              "Z Khan           2276   2860     2276\n",
              "DW Steyn         2207   2454     2207\n",
              "R Vinay Kumar    2186   3043     2186\n",
              "SR Watson        2137   2751     2137\n",
              "IK Pathan        2113   2711     2113\n",
              "I Sharma         1999   2682     1999\n",
              "A Nehra          1974   2537     1974\n",
              "PP Ojha          1945   2399     1945\n",
              "RP Singh         1874   2417     1874"
            ]
          },
          "metadata": {
            "tags": []
          },
          "execution_count": 56
        }
      ]
    },
    {
      "cell_type": "code",
      "metadata": {
        "colab": {
          "base_uri": "https://localhost:8080/",
          "height": 700
        },
        "id": "uRnbHCfoYQfx",
        "outputId": "9c91aa88-7a82-490e-88ed-7181447132bf"
      },
      "source": [
        "TopBowlers['economy'] = TopBowlers['runs']/(TopBowlers['balls']/6)\n",
        "TopBowlers = TopBowlers.sort_values(['economy'], ascending=True)[:20]\n",
        "TopBowlers"
      ],
      "execution_count": 57,
      "outputs": [
        {
          "output_type": "execute_result",
          "data": {
            "text/html": [
              "<div>\n",
              "<style scoped>\n",
              "    .dataframe tbody tr th:only-of-type {\n",
              "        vertical-align: middle;\n",
              "    }\n",
              "\n",
              "    .dataframe tbody tr th {\n",
              "        vertical-align: top;\n",
              "    }\n",
              "\n",
              "    .dataframe thead th {\n",
              "        text-align: right;\n",
              "    }\n",
              "</style>\n",
              "<table border=\"1\" class=\"dataframe\">\n",
              "  <thead>\n",
              "    <tr style=\"text-align: right;\">\n",
              "      <th></th>\n",
              "      <th>runs</th>\n",
              "      <th>balls</th>\n",
              "      <th>wickets</th>\n",
              "      <th>economy</th>\n",
              "    </tr>\n",
              "    <tr>\n",
              "      <th>bowler</th>\n",
              "      <th></th>\n",
              "      <th></th>\n",
              "      <th></th>\n",
              "      <th></th>\n",
              "    </tr>\n",
              "  </thead>\n",
              "  <tbody>\n",
              "    <tr>\n",
              "      <th>UT Yadav</th>\n",
              "      <td>2605</td>\n",
              "      <td>3640</td>\n",
              "      <td>2605</td>\n",
              "      <td>4.293956</td>\n",
              "    </tr>\n",
              "    <tr>\n",
              "      <th>R Vinay Kumar</th>\n",
              "      <td>2186</td>\n",
              "      <td>3043</td>\n",
              "      <td>2186</td>\n",
              "      <td>4.310220</td>\n",
              "    </tr>\n",
              "    <tr>\n",
              "      <th>DJ Bravo</th>\n",
              "      <td>2711</td>\n",
              "      <td>3733</td>\n",
              "      <td>2711</td>\n",
              "      <td>4.357353</td>\n",
              "    </tr>\n",
              "    <tr>\n",
              "      <th>I Sharma</th>\n",
              "      <td>1999</td>\n",
              "      <td>2682</td>\n",
              "      <td>1999</td>\n",
              "      <td>4.472036</td>\n",
              "    </tr>\n",
              "    <tr>\n",
              "      <th>PP Chawla</th>\n",
              "      <td>3157</td>\n",
              "      <td>4153</td>\n",
              "      <td>3157</td>\n",
              "      <td>4.561040</td>\n",
              "    </tr>\n",
              "    <tr>\n",
              "      <th>RP Singh</th>\n",
              "      <td>1874</td>\n",
              "      <td>2417</td>\n",
              "      <td>1874</td>\n",
              "      <td>4.652048</td>\n",
              "    </tr>\n",
              "    <tr>\n",
              "      <th>SR Watson</th>\n",
              "      <td>2137</td>\n",
              "      <td>2751</td>\n",
              "      <td>2137</td>\n",
              "      <td>4.660851</td>\n",
              "    </tr>\n",
              "    <tr>\n",
              "      <th>A Nehra</th>\n",
              "      <td>1974</td>\n",
              "      <td>2537</td>\n",
              "      <td>1974</td>\n",
              "      <td>4.668506</td>\n",
              "    </tr>\n",
              "    <tr>\n",
              "      <th>IK Pathan</th>\n",
              "      <td>2113</td>\n",
              "      <td>2711</td>\n",
              "      <td>2113</td>\n",
              "      <td>4.676503</td>\n",
              "    </tr>\n",
              "    <tr>\n",
              "      <th>RA Jadeja</th>\n",
              "      <td>2541</td>\n",
              "      <td>3221</td>\n",
              "      <td>2541</td>\n",
              "      <td>4.733313</td>\n",
              "    </tr>\n",
              "    <tr>\n",
              "      <th>P Kumar</th>\n",
              "      <td>2637</td>\n",
              "      <td>3342</td>\n",
              "      <td>2637</td>\n",
              "      <td>4.734291</td>\n",
              "    </tr>\n",
              "    <tr>\n",
              "      <th>Z Khan</th>\n",
              "      <td>2276</td>\n",
              "      <td>2860</td>\n",
              "      <td>2276</td>\n",
              "      <td>4.774825</td>\n",
              "    </tr>\n",
              "    <tr>\n",
              "      <th>PP Ojha</th>\n",
              "      <td>1945</td>\n",
              "      <td>2399</td>\n",
              "      <td>1945</td>\n",
              "      <td>4.864527</td>\n",
              "    </tr>\n",
              "    <tr>\n",
              "      <th>A Mishra</th>\n",
              "      <td>3172</td>\n",
              "      <td>3850</td>\n",
              "      <td>3172</td>\n",
              "      <td>4.943377</td>\n",
              "    </tr>\n",
              "    <tr>\n",
              "      <th>B Kumar</th>\n",
              "      <td>2707</td>\n",
              "      <td>3264</td>\n",
              "      <td>2707</td>\n",
              "      <td>4.976103</td>\n",
              "    </tr>\n",
              "    <tr>\n",
              "      <th>SL Malinga</th>\n",
              "      <td>2974</td>\n",
              "      <td>3511</td>\n",
              "      <td>2974</td>\n",
              "      <td>5.082313</td>\n",
              "    </tr>\n",
              "    <tr>\n",
              "      <th>Harbhajan Singh</th>\n",
              "      <td>3451</td>\n",
              "      <td>4050</td>\n",
              "      <td>3451</td>\n",
              "      <td>5.112593</td>\n",
              "    </tr>\n",
              "    <tr>\n",
              "      <th>SP Narine</th>\n",
              "      <td>2600</td>\n",
              "      <td>2939</td>\n",
              "      <td>2600</td>\n",
              "      <td>5.307928</td>\n",
              "    </tr>\n",
              "    <tr>\n",
              "      <th>R Ashwin</th>\n",
              "      <td>3016</td>\n",
              "      <td>3391</td>\n",
              "      <td>3016</td>\n",
              "      <td>5.336479</td>\n",
              "    </tr>\n",
              "    <tr>\n",
              "      <th>DW Steyn</th>\n",
              "      <td>2207</td>\n",
              "      <td>2454</td>\n",
              "      <td>2207</td>\n",
              "      <td>5.396088</td>\n",
              "    </tr>\n",
              "  </tbody>\n",
              "</table>\n",
              "</div>"
            ],
            "text/plain": [
              "                 runs  balls  wickets   economy\n",
              "bowler                                         \n",
              "UT Yadav         2605   3640     2605  4.293956\n",
              "R Vinay Kumar    2186   3043     2186  4.310220\n",
              "DJ Bravo         2711   3733     2711  4.357353\n",
              "I Sharma         1999   2682     1999  4.472036\n",
              "PP Chawla        3157   4153     3157  4.561040\n",
              "RP Singh         1874   2417     1874  4.652048\n",
              "SR Watson        2137   2751     2137  4.660851\n",
              "A Nehra          1974   2537     1974  4.668506\n",
              "IK Pathan        2113   2711     2113  4.676503\n",
              "RA Jadeja        2541   3221     2541  4.733313\n",
              "P Kumar          2637   3342     2637  4.734291\n",
              "Z Khan           2276   2860     2276  4.774825\n",
              "PP Ojha          1945   2399     1945  4.864527\n",
              "A Mishra         3172   3850     3172  4.943377\n",
              "B Kumar          2707   3264     2707  4.976103\n",
              "SL Malinga       2974   3511     2974  5.082313\n",
              "Harbhajan Singh  3451   4050     3451  5.112593\n",
              "SP Narine        2600   2939     2600  5.307928\n",
              "R Ashwin         3016   3391     3016  5.336479\n",
              "DW Steyn         2207   2454     2207  5.396088"
            ]
          },
          "metadata": {
            "tags": []
          },
          "execution_count": 57
        }
      ]
    },
    {
      "cell_type": "code",
      "metadata": {
        "colab": {
          "base_uri": "https://localhost:8080/",
          "height": 586
        },
        "id": "aP_vAuB_YvYm",
        "outputId": "adc71f50-cf74-4ee7-dc4c-d840070e4080"
      },
      "source": [
        "plt.figure(figsize=(10,8))\n",
        "plt.bar(np.arange(len(TopBowlers)),TopBowlers['economy'],color='y')\n",
        "plt.xticks(ticks=np.arange(len(TopBowlers)),labels=TopBowlers.index,rotation=90)\n",
        "plt.xlabel('Bowler')\n",
        "plt.ylabel('economy')\n",
        "plt.title('Bowlers Economy')\n",
        "plt.show()"
      ],
      "execution_count": 58,
      "outputs": [
        {
          "output_type": "display_data",
          "data": {
            "image/png": "[encoded data removed]",
            "text/plain": [
              "<Figure size 720x576 with 1 Axes>"
            ]
          },
          "metadata": {
            "tags": [],
            "needs_background": "light"
          }
        }
      ]
    },
    {
      "cell_type": "markdown",
      "metadata": {
        "id": "JREG2F9yYy96"
      },
      "source": [
        "Wickets taken by a bowler"
      ]
    },
    {
      "cell_type": "code",
      "metadata": {
        "colab": {
          "base_uri": "https://localhost:8080/",
          "height": 586
        },
        "id": "hn3-V18zY1SN",
        "outputId": "ff549d6d-e331-4530-e1f2-1e5b6d78e1a2"
      },
      "source": [
        "plt.figure(figsize=(10,8))\n",
        "plt.bar(np.arange(len(TopBowlers)),TopBowlers['wickets'],color='GREEN')\n",
        "plt.xticks(ticks=np.arange(len(TopBowlers)),labels=TopBowlers.index,rotation=90)\n",
        "plt.xlabel('Bowler')\n",
        "plt.ylabel('wickets')\n",
        "plt.title('Bowlers Wickets')\n",
        "plt.show()"
      ],
      "execution_count": 59,
      "outputs": [
        {
          "output_type": "display_data",
          "data": {
            "image/png": "[encoded data removed]",
            "text/plain": [
              "<Figure size 720x576 with 1 Axes>"
            ]
          },
          "metadata": {
            "tags": [],
            "needs_background": "light"
          }
        }
      ]
    },
    {
      "cell_type": "markdown",
      "metadata": {
        "id": "8LGDgF47Y5gG"
      },
      "source": [
        "Top 5 Bowlers"
      ]
    },
    {
      "cell_type": "code",
      "metadata": {
        "colab": {
          "base_uri": "https://localhost:8080/",
          "height": 386
        },
        "id": "SkWa8S0lY7gd",
        "outputId": "369f2926-8f79-442a-ddcd-7d691bc8a166"
      },
      "source": [
        "delivery.groupby('bowler')['player_dismissed'].count().sort_values(ascending=False).head(5).plot(kind='bar', color='yellow')\n",
        "plt.title(\"Top 5 Bowlers\")"
      ],
      "execution_count": 60,
      "outputs": [
        {
          "output_type": "execute_result",
          "data": {
            "text/plain": [
              "Text(0.5, 1.0, 'Top 5 Bowlers')"
            ]
          },
          "metadata": {
            "tags": []
          },
          "execution_count": 60
        },
        {
          "output_type": "display_data",
          "data": {
            "image/png": "[encoded data removed]",
            "text/plain": [
              "<Figure size 432x288 with 1 Axes>"
            ]
          },
          "metadata": {
            "tags": [],
            "needs_background": "light"
          }
        }
      ]
    },
    {
      "cell_type": "markdown",
      "metadata": {
        "id": "dn5AaRBeZAIz"
      },
      "source": [
        "Harbhajan Singh and A Mishra took the most wickets, so probability is that in whichever team they are that team has high chances of winning by wickets."
      ]
    },
    {
      "cell_type": "markdown",
      "metadata": {
        "id": "Hs7yWMZfZBbo"
      },
      "source": [
        "Summary:\n",
        "1.)Best Team is Mumbai Indians.\n",
        "2.)Best Player is CH Gayle.\n",
        "3.)Winning Toss and Batting first are a factor that affect the victory.\n",
        "4.)Most matches have been played in Eden Gardens followed by Wankhede Stadium.\n",
        "5.)Teams who win toss choose to field first.\n",
        "6.)Teams who choose to field after winning the toss have high chances of winning.\n",
        "7.)Virat Kohli and S.K Raina Scored the most runs, so probability is that in whichever team they are that team has high chances of winning by runs and comapnies can also hire them to endorse products of batting.\n",
        "8)Harbhajan Singh and A Mishra took the most wickets, so probability is that in whichever team they are that team has high chances of winning by wickets and comapnies can also hire them to endorse products of bowling.\n",
        "T9.)op Players like, CH Gayle, AB de Villiers, MS Dhoni, and DA Warner can be hired by many companies to endorse their products as they have a huge fanbase."
      ]
    },
    {
      "cell_type": "markdown",
      "metadata": {
        "id": "d8k3ZFJmZWzv"
      },
      "source": [
        "Conclusion:  I have successfully implemented Exploratory Data Analysis - Sports and got successful output"
      ]
    },
    {
      "cell_type": "markdown",
      "metadata": {
        "id": "_iEzFenvZeDy"
      },
      "source": [
        "Thank You"
      ]
    }
  ]
}